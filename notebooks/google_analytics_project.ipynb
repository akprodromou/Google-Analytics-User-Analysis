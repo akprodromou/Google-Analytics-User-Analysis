{
 "cells": [
  {
   "cell_type": "markdown",
   "id": "99ca4cbb",
   "metadata": {},
   "source": [
    "# Google Analytics Data Analysis (BigQuery)\n",
    "\n",
    "## Introduction - Understanding the problem\n",
    "\n",
    "### Dataset Description\n",
    "\n",
    "In this project, we will be working with the Google Analytics Sample Dataset hosted in Google BigQuery under:\n",
    "\n",
    "    bigquery-public-data.google_analytics_sample.ga_sessions_20170801\n",
    "\n",
    "This dataset contains a single day (August 1, 2017) of anonymized Google Analytics session data for a fictional e-commerce store.\n",
    "It includes session-level and hit-level information, such as:\n",
    "\n",
    "- Traffic source (how users arrived)\n",
    "- Device and browser info\n",
    "- Geo-location (country, city)\n",
    "- Pageviews, transactions, revenue\n",
    "- User behavior (new vs returning users)\n",
    "- E-commerce actions (adding products to cart, purchasing)\n",
    "\n",
    "### Project Goal\n",
    "\n",
    "The primary goals of this analysis are to:\n",
    "- Understand the behavior of users visiting the site.\n",
    "- Analyze traffic sources, user devices, geography, and engagement.\n",
    "- Identify key factors leading to transactions and revenue generation.\n",
    "- Predict which sessions are most likely to result in a purchase (simple predictive model).\n",
    "- Recommend business actions to optimize user acquisition, site engagement, and conversions.\n",
    "\n",
    "### Key Business Questions\n",
    "\n",
    "- Which traffic sources bring the most users and/or revenue?\n",
    "- What device types are most common among buyers?\n",
    "- Are new users or returning users more likely to make a purchase?\n",
    "- Which countries generate the most sessions or revenue?\n",
    "- Can we predict which sessions are more likely to lead to a transaction?"
   ]
  },
  {
   "cell_type": "markdown",
   "id": "f4607f3e",
   "metadata": {},
   "source": [
    "## 1. Data Structure\n",
    "\n",
    "We'll start by loading BigQuery:"
   ]
  },
  {
   "cell_type": "code",
   "execution_count": 6,
   "id": "b60d3b68",
   "metadata": {},
   "outputs": [
    {
     "name": "stdout",
     "output_type": "stream",
     "text": [
      "The google.cloud.bigquery extension is already loaded. To reload it, use:\n",
      "  %reload_ext google.cloud.bigquery\n"
     ]
    }
   ],
   "source": [
    "%load_ext google.cloud.bigquery\n",
    "# To supress warnings and make our notebook more legible\n",
    "import warnings\n",
    "warnings.filterwarnings('ignore')"
   ]
  },
  {
   "cell_type": "code",
   "execution_count": 7,
   "id": "7cb49679",
   "metadata": {},
   "outputs": [],
   "source": [
    "from google.cloud import bigquery\n",
    "from google.oauth2 import service_account\n",
    "\n",
    "key_path = \"/Users/anton/Desktop/Google_Analytics_SQL/week-3-bigquery-369916-341d3b137e42.json\"\n",
    "\n",
    "# Create credentials object\n",
    "credentials = service_account.Credentials.from_service_account_file(key_path)\n",
    "\n",
    "# Set context manually\n",
    "from google.cloud.bigquery import magics\n",
    "magics.context.credentials = credentials\n",
    "magics.context.project = credentials.project_id"
   ]
  },
  {
   "cell_type": "markdown",
   "id": "d0aa9696",
   "metadata": {},
   "source": [
    "Since I don't find SQL practical when exploring table structures, field values etc, I'll also load pandas, to use python complementary in this project:"
   ]
  },
  {
   "cell_type": "code",
   "execution_count": 8,
   "id": "0cee384c",
   "metadata": {},
   "outputs": [],
   "source": [
    "import pandas as pd"
   ]
  },
  {
   "cell_type": "code",
   "execution_count": 9,
   "id": "440e012a",
   "metadata": {},
   "outputs": [
    {
     "data": {
      "application/vnd.jupyter.widget-view+json": {
       "model_id": "9691313ddc1d4be297deff74ec1823a5",
       "version_major": 2,
       "version_minor": 0
      },
      "text/plain": [
       "Query is running:   0%|          |"
      ]
     },
     "metadata": {},
     "output_type": "display_data"
    },
    {
     "data": {
      "application/vnd.jupyter.widget-view+json": {
       "model_id": "103f6bd6f2af4233aebf2db3a3a31eb1",
       "version_major": 2,
       "version_minor": 0
      },
      "text/plain": [
       "Downloading:   0%|          |"
      ]
     },
     "metadata": {},
     "output_type": "display_data"
    }
   ],
   "source": [
    "%%bigquery df\n",
    "-- Create a dataframe from the table - this will only be used to explore nested content, unique values etv\n",
    "SELECT *\n",
    "FROM `bigquery-public-data.google_analytics_sample.ga_sessions_20170801`;"
   ]
  },
  {
   "cell_type": "code",
   "execution_count": 10,
   "id": "a41143d8",
   "metadata": {},
   "outputs": [
    {
     "name": "stdout",
     "output_type": "stream",
     "text": [
      "<class 'pandas.core.frame.DataFrame'>\n",
      "RangeIndex: 2556 entries, 0 to 2555\n",
      "Data columns (total 16 columns):\n",
      " #   Column                Non-Null Count  Dtype \n",
      "---  ------                --------------  ----- \n",
      " 0   visitorId             0 non-null      Int64 \n",
      " 1   visitNumber           2556 non-null   Int64 \n",
      " 2   visitId               2556 non-null   Int64 \n",
      " 3   visitStartTime        2556 non-null   Int64 \n",
      " 4   date                  2556 non-null   object\n",
      " 5   totals                2556 non-null   object\n",
      " 6   trafficSource         2556 non-null   object\n",
      " 7   device                2556 non-null   object\n",
      " 8   geoNetwork            2556 non-null   object\n",
      " 9   customDimensions      2556 non-null   object\n",
      " 10  hits                  2556 non-null   object\n",
      " 11  fullVisitorId         2556 non-null   object\n",
      " 12  userId                0 non-null      object\n",
      " 13  clientId              0 non-null      object\n",
      " 14  channelGrouping       2556 non-null   object\n",
      " 15  socialEngagementType  2556 non-null   object\n",
      "dtypes: Int64(4), object(12)\n",
      "memory usage: 329.6+ KB\n"
     ]
    }
   ],
   "source": [
    "df.info()"
   ]
  },
  {
   "cell_type": "code",
   "execution_count": 11,
   "id": "15b75697",
   "metadata": {},
   "outputs": [
    {
     "data": {
      "text/plain": [
       "0       {'visits': 1, 'hits': 1, 'pageviews': 1, 'time...\n",
       "1       {'visits': 1, 'hits': 1, 'pageviews': 1, 'time...\n",
       "2       {'visits': 1, 'hits': 1, 'pageviews': 1, 'time...\n",
       "3       {'visits': 1, 'hits': 1, 'pageviews': 1, 'time...\n",
       "4       {'visits': 1, 'hits': 1, 'pageviews': 1, 'time...\n",
       "                              ...                        \n",
       "2551    {'visits': 1, 'hits': 84, 'pageviews': 60, 'ti...\n",
       "2552    {'visits': 1, 'hits': 100, 'pageviews': 72, 't...\n",
       "2553    {'visits': 1, 'hits': 140, 'pageviews': 93, 't...\n",
       "2554    {'visits': 1, 'hits': 156, 'pageviews': 112, '...\n",
       "2555    {'visits': 1, 'hits': 193, 'pageviews': 106, '...\n",
       "Name: totals, Length: 2556, dtype: object"
      ]
     },
     "execution_count": 11,
     "metadata": {},
     "output_type": "execute_result"
    }
   ],
   "source": [
    "# Explore the totals column\n",
    "df['totals']"
   ]
  },
  {
   "cell_type": "code",
   "execution_count": 12,
   "id": "ed6288b7",
   "metadata": {},
   "outputs": [
    {
     "name": "stdout",
     "output_type": "stream",
     "text": [
      "Index(['visits', 'hits', 'pageviews', 'timeOnSite', 'bounces', 'transactions',\n",
      "       'transactionRevenue', 'newVisits', 'screenviews', 'uniqueScreenviews',\n",
      "       'timeOnScreen', 'totalTransactionRevenue', 'sessionQualityDim'],\n",
      "      dtype='object')\n"
     ]
    }
   ],
   "source": [
    "# Since 'totals' is a nested STRUCT, I'll expand it using json_normalize\n",
    "df_totals = pd.json_normalize(df['totals'])\n",
    "\n",
    "print(df_totals.columns)"
   ]
  },
  {
   "cell_type": "code",
   "execution_count": 13,
   "id": "9972d592",
   "metadata": {},
   "outputs": [
    {
     "data": {
      "text/plain": [
       "0       [{'hitNumber': 1, 'time': 0, 'hour': 5, 'minut...\n",
       "1       [{'hitNumber': 1, 'time': 0, 'hour': 5, 'minut...\n",
       "2       [{'hitNumber': 1, 'time': 0, 'hour': 12, 'minu...\n",
       "3       [{'hitNumber': 1, 'time': 0, 'hour': 8, 'minut...\n",
       "4       [{'hitNumber': 1, 'time': 0, 'hour': 12, 'minu...\n",
       "                              ...                        \n",
       "2551    [{'hitNumber': 1, 'time': 0, 'hour': 18, 'minu...\n",
       "2552    [{'hitNumber': 1, 'time': 0, 'hour': 9, 'minut...\n",
       "2553    [{'hitNumber': 1, 'time': 0, 'hour': 12, 'minu...\n",
       "2554    [{'hitNumber': 1, 'time': 0, 'hour': 15, 'minu...\n",
       "2555    [{'hitNumber': 1, 'time': 0, 'hour': 14, 'minu...\n",
       "Name: hits, Length: 2556, dtype: object"
      ]
     },
     "execution_count": 13,
     "metadata": {},
     "output_type": "execute_result"
    }
   ],
   "source": [
    "# Explore the hits column\n",
    "df['hits']"
   ]
  },
  {
   "cell_type": "code",
   "execution_count": 14,
   "id": "07e70d88",
   "metadata": {},
   "outputs": [
    {
     "data": {
      "text/plain": [
       "dict_keys(['hitNumber', 'time', 'hour', 'minute', 'isSecure', 'isInteraction', 'isEntrance', 'isExit', 'referer', 'page', 'transaction', 'item', 'contentInfo', 'appInfo', 'exceptionInfo', 'eventInfo', 'product', 'promotion', 'promotionActionInfo', 'refund', 'eCommerceAction', 'experiment', 'publisher', 'customVariables', 'customDimensions', 'customMetrics', 'type', 'social', 'latencyTracking', 'sourcePropertyInfo', 'contentGroup', 'dataSource', 'publisher_infos'])"
      ]
     },
     "execution_count": 14,
     "metadata": {},
     "output_type": "execute_result"
    }
   ],
   "source": [
    "# 'hits' is a list of dictionaries\n",
    "# List the keys of the first hit\n",
    "df['hits'].iloc[0][0].keys()"
   ]
  },
  {
   "cell_type": "markdown",
   "id": "35a463cc",
   "metadata": {},
   "source": [
    "We can also find out the number of many rows (sessions) in the table using SQL:"
   ]
  },
  {
   "cell_type": "code",
   "execution_count": 15,
   "id": "d3093de4",
   "metadata": {},
   "outputs": [
    {
     "data": {
      "application/vnd.jupyter.widget-view+json": {
       "model_id": "6544b009c64a4c58a1f28488eac09f98",
       "version_major": 2,
       "version_minor": 0
      },
      "text/plain": [
       "Query is running:   0%|          |"
      ]
     },
     "metadata": {},
     "output_type": "display_data"
    },
    {
     "data": {
      "application/vnd.jupyter.widget-view+json": {
       "model_id": "666d158f52db4a57890c473c299871dc",
       "version_major": 2,
       "version_minor": 0
      },
      "text/plain": [
       "Downloading:   0%|          |"
      ]
     },
     "metadata": {},
     "output_type": "display_data"
    },
    {
     "data": {
      "text/html": [
       "<div>\n",
       "<style scoped>\n",
       "    .dataframe tbody tr th:only-of-type {\n",
       "        vertical-align: middle;\n",
       "    }\n",
       "\n",
       "    .dataframe tbody tr th {\n",
       "        vertical-align: top;\n",
       "    }\n",
       "\n",
       "    .dataframe thead th {\n",
       "        text-align: right;\n",
       "    }\n",
       "</style>\n",
       "<table border=\"1\" class=\"dataframe\">\n",
       "  <thead>\n",
       "    <tr style=\"text-align: right;\">\n",
       "      <th></th>\n",
       "      <th>session_count</th>\n",
       "    </tr>\n",
       "  </thead>\n",
       "  <tbody>\n",
       "    <tr>\n",
       "      <th>0</th>\n",
       "      <td>2556</td>\n",
       "    </tr>\n",
       "  </tbody>\n",
       "</table>\n",
       "</div>"
      ],
      "text/plain": [
       "   session_count\n",
       "0           2556"
      ]
     },
     "execution_count": 15,
     "metadata": {},
     "output_type": "execute_result"
    }
   ],
   "source": [
    "%%bigquery\n",
    "\n",
    "SELECT COUNT(*) AS session_count\n",
    "FROM `bigquery-public-data.google_analytics_sample.ga_sessions_20170801`;\n"
   ]
  },
  {
   "cell_type": "markdown",
   "id": "0f7d0f46",
   "metadata": {},
   "source": [
    "...and how many unique users?"
   ]
  },
  {
   "cell_type": "code",
   "execution_count": 16,
   "id": "1dcf3785",
   "metadata": {},
   "outputs": [
    {
     "data": {
      "application/vnd.jupyter.widget-view+json": {
       "model_id": "d3ab5dfd2a4f498a84dd3870c04966c3",
       "version_major": 2,
       "version_minor": 0
      },
      "text/plain": [
       "Query is running:   0%|          |"
      ]
     },
     "metadata": {},
     "output_type": "display_data"
    },
    {
     "data": {
      "application/vnd.jupyter.widget-view+json": {
       "model_id": "218f6c63f3ff41ba9c7972fda0597b0e",
       "version_major": 2,
       "version_minor": 0
      },
      "text/plain": [
       "Downloading:   0%|          |"
      ]
     },
     "metadata": {},
     "output_type": "display_data"
    },
    {
     "data": {
      "text/html": [
       "<div>\n",
       "<style scoped>\n",
       "    .dataframe tbody tr th:only-of-type {\n",
       "        vertical-align: middle;\n",
       "    }\n",
       "\n",
       "    .dataframe tbody tr th {\n",
       "        vertical-align: top;\n",
       "    }\n",
       "\n",
       "    .dataframe thead th {\n",
       "        text-align: right;\n",
       "    }\n",
       "</style>\n",
       "<table border=\"1\" class=\"dataframe\">\n",
       "  <thead>\n",
       "    <tr style=\"text-align: right;\">\n",
       "      <th></th>\n",
       "      <th>unique_users</th>\n",
       "    </tr>\n",
       "  </thead>\n",
       "  <tbody>\n",
       "    <tr>\n",
       "      <th>0</th>\n",
       "      <td>2293</td>\n",
       "    </tr>\n",
       "  </tbody>\n",
       "</table>\n",
       "</div>"
      ],
      "text/plain": [
       "   unique_users\n",
       "0          2293"
      ]
     },
     "execution_count": 16,
     "metadata": {},
     "output_type": "execute_result"
    }
   ],
   "source": [
    "%%bigquery\n",
    "\n",
    "SELECT COUNT(DISTINCT fullVisitorId) AS unique_users\n",
    "FROM `bigquery-public-data.google_analytics_sample.ga_sessions_20170801`;"
   ]
  },
  {
   "cell_type": "markdown",
   "id": "7eed838c",
   "metadata": {},
   "source": [
    "Let's have a glimpse at the dataset (similar to the head() function in Python):"
   ]
  },
  {
   "cell_type": "code",
   "execution_count": 17,
   "id": "738fec1a",
   "metadata": {},
   "outputs": [
    {
     "data": {
      "application/vnd.jupyter.widget-view+json": {
       "model_id": "f41ede0bfd554f1db6f1ae0fe4ad3d10",
       "version_major": 2,
       "version_minor": 0
      },
      "text/plain": [
       "Query is running:   0%|          |"
      ]
     },
     "metadata": {},
     "output_type": "display_data"
    },
    {
     "data": {
      "application/vnd.jupyter.widget-view+json": {
       "model_id": "d98cae25ceb240129f85416301ae3e5f",
       "version_major": 2,
       "version_minor": 0
      },
      "text/plain": [
       "Downloading:   0%|          |"
      ]
     },
     "metadata": {},
     "output_type": "display_data"
    },
    {
     "data": {
      "text/html": [
       "<div>\n",
       "<style scoped>\n",
       "    .dataframe tbody tr th:only-of-type {\n",
       "        vertical-align: middle;\n",
       "    }\n",
       "\n",
       "    .dataframe tbody tr th {\n",
       "        vertical-align: top;\n",
       "    }\n",
       "\n",
       "    .dataframe thead th {\n",
       "        text-align: right;\n",
       "    }\n",
       "</style>\n",
       "<table border=\"1\" class=\"dataframe\">\n",
       "  <thead>\n",
       "    <tr style=\"text-align: right;\">\n",
       "      <th></th>\n",
       "      <th>visitorId</th>\n",
       "      <th>visitNumber</th>\n",
       "      <th>visitId</th>\n",
       "      <th>visitStartTime</th>\n",
       "      <th>date</th>\n",
       "      <th>totals</th>\n",
       "      <th>trafficSource</th>\n",
       "      <th>device</th>\n",
       "      <th>geoNetwork</th>\n",
       "      <th>customDimensions</th>\n",
       "      <th>hits</th>\n",
       "      <th>fullVisitorId</th>\n",
       "      <th>userId</th>\n",
       "      <th>clientId</th>\n",
       "      <th>channelGrouping</th>\n",
       "      <th>socialEngagementType</th>\n",
       "    </tr>\n",
       "  </thead>\n",
       "  <tbody>\n",
       "    <tr>\n",
       "      <th>0</th>\n",
       "      <td>&lt;NA&gt;</td>\n",
       "      <td>1</td>\n",
       "      <td>1501591568</td>\n",
       "      <td>1501591568</td>\n",
       "      <td>20170801</td>\n",
       "      <td>{'visits': 1, 'hits': 1, 'pageviews': 1, 'time...</td>\n",
       "      <td>{'referralPath': None, 'campaign': '(not set)'...</td>\n",
       "      <td>{'browser': 'Chrome', 'browserVersion': 'not a...</td>\n",
       "      <td>{'continent': 'Europe', 'subContinent': 'South...</td>\n",
       "      <td>[]</td>\n",
       "      <td>[{'hitNumber': 1, 'time': 0, 'hour': 5, 'minut...</td>\n",
       "      <td>3418334011779872055</td>\n",
       "      <td>None</td>\n",
       "      <td>None</td>\n",
       "      <td>Organic Search</td>\n",
       "      <td>Not Socially Engaged</td>\n",
       "    </tr>\n",
       "    <tr>\n",
       "      <th>1</th>\n",
       "      <td>&lt;NA&gt;</td>\n",
       "      <td>2</td>\n",
       "      <td>1501589647</td>\n",
       "      <td>1501589647</td>\n",
       "      <td>20170801</td>\n",
       "      <td>{'visits': 1, 'hits': 1, 'pageviews': 1, 'time...</td>\n",
       "      <td>{'referralPath': '/analytics/web/', 'campaign'...</td>\n",
       "      <td>{'browser': 'Chrome', 'browserVersion': 'not a...</td>\n",
       "      <td>{'continent': 'Asia', 'subContinent': 'Souther...</td>\n",
       "      <td>[{'index': 4, 'value': 'APAC'}]</td>\n",
       "      <td>[{'hitNumber': 1, 'time': 0, 'hour': 5, 'minut...</td>\n",
       "      <td>2474397855041322408</td>\n",
       "      <td>None</td>\n",
       "      <td>None</td>\n",
       "      <td>Referral</td>\n",
       "      <td>Not Socially Engaged</td>\n",
       "    </tr>\n",
       "    <tr>\n",
       "      <th>2</th>\n",
       "      <td>&lt;NA&gt;</td>\n",
       "      <td>1</td>\n",
       "      <td>1501616621</td>\n",
       "      <td>1501616621</td>\n",
       "      <td>20170801</td>\n",
       "      <td>{'visits': 1, 'hits': 1, 'pageviews': 1, 'time...</td>\n",
       "      <td>{'referralPath': '/analytics/web/', 'campaign'...</td>\n",
       "      <td>{'browser': 'Chrome', 'browserVersion': 'not a...</td>\n",
       "      <td>{'continent': 'Europe', 'subContinent': 'North...</td>\n",
       "      <td>[{'index': 4, 'value': 'EMEA'}]</td>\n",
       "      <td>[{'hitNumber': 1, 'time': 0, 'hour': 12, 'minu...</td>\n",
       "      <td>5870462820713110108</td>\n",
       "      <td>None</td>\n",
       "      <td>None</td>\n",
       "      <td>Referral</td>\n",
       "      <td>Not Socially Engaged</td>\n",
       "    </tr>\n",
       "    <tr>\n",
       "      <th>3</th>\n",
       "      <td>&lt;NA&gt;</td>\n",
       "      <td>1</td>\n",
       "      <td>1501601200</td>\n",
       "      <td>1501601200</td>\n",
       "      <td>20170801</td>\n",
       "      <td>{'visits': 1, 'hits': 1, 'pageviews': 1, 'time...</td>\n",
       "      <td>{'referralPath': '/analytics/web/', 'campaign'...</td>\n",
       "      <td>{'browser': 'Firefox', 'browserVersion': 'not ...</td>\n",
       "      <td>{'continent': 'Americas', 'subContinent': 'Nor...</td>\n",
       "      <td>[{'index': 4, 'value': 'North America'}]</td>\n",
       "      <td>[{'hitNumber': 1, 'time': 0, 'hour': 8, 'minut...</td>\n",
       "      <td>9397809171349480379</td>\n",
       "      <td>None</td>\n",
       "      <td>None</td>\n",
       "      <td>Referral</td>\n",
       "      <td>Not Socially Engaged</td>\n",
       "    </tr>\n",
       "    <tr>\n",
       "      <th>4</th>\n",
       "      <td>&lt;NA&gt;</td>\n",
       "      <td>1</td>\n",
       "      <td>1501615525</td>\n",
       "      <td>1501615525</td>\n",
       "      <td>20170801</td>\n",
       "      <td>{'visits': 1, 'hits': 1, 'pageviews': 1, 'time...</td>\n",
       "      <td>{'referralPath': '/analytics/web/', 'campaign'...</td>\n",
       "      <td>{'browser': 'Chrome', 'browserVersion': 'not a...</td>\n",
       "      <td>{'continent': 'Americas', 'subContinent': 'Nor...</td>\n",
       "      <td>[{'index': 4, 'value': 'North America'}]</td>\n",
       "      <td>[{'hitNumber': 1, 'time': 0, 'hour': 12, 'minu...</td>\n",
       "      <td>6089902943184578335</td>\n",
       "      <td>None</td>\n",
       "      <td>None</td>\n",
       "      <td>Referral</td>\n",
       "      <td>Not Socially Engaged</td>\n",
       "    </tr>\n",
       "  </tbody>\n",
       "</table>\n",
       "</div>"
      ],
      "text/plain": [
       "   visitorId  visitNumber     visitId  visitStartTime      date  \\\n",
       "0       <NA>            1  1501591568      1501591568  20170801   \n",
       "1       <NA>            2  1501589647      1501589647  20170801   \n",
       "2       <NA>            1  1501616621      1501616621  20170801   \n",
       "3       <NA>            1  1501601200      1501601200  20170801   \n",
       "4       <NA>            1  1501615525      1501615525  20170801   \n",
       "\n",
       "                                              totals  \\\n",
       "0  {'visits': 1, 'hits': 1, 'pageviews': 1, 'time...   \n",
       "1  {'visits': 1, 'hits': 1, 'pageviews': 1, 'time...   \n",
       "2  {'visits': 1, 'hits': 1, 'pageviews': 1, 'time...   \n",
       "3  {'visits': 1, 'hits': 1, 'pageviews': 1, 'time...   \n",
       "4  {'visits': 1, 'hits': 1, 'pageviews': 1, 'time...   \n",
       "\n",
       "                                       trafficSource  \\\n",
       "0  {'referralPath': None, 'campaign': '(not set)'...   \n",
       "1  {'referralPath': '/analytics/web/', 'campaign'...   \n",
       "2  {'referralPath': '/analytics/web/', 'campaign'...   \n",
       "3  {'referralPath': '/analytics/web/', 'campaign'...   \n",
       "4  {'referralPath': '/analytics/web/', 'campaign'...   \n",
       "\n",
       "                                              device  \\\n",
       "0  {'browser': 'Chrome', 'browserVersion': 'not a...   \n",
       "1  {'browser': 'Chrome', 'browserVersion': 'not a...   \n",
       "2  {'browser': 'Chrome', 'browserVersion': 'not a...   \n",
       "3  {'browser': 'Firefox', 'browserVersion': 'not ...   \n",
       "4  {'browser': 'Chrome', 'browserVersion': 'not a...   \n",
       "\n",
       "                                          geoNetwork  \\\n",
       "0  {'continent': 'Europe', 'subContinent': 'South...   \n",
       "1  {'continent': 'Asia', 'subContinent': 'Souther...   \n",
       "2  {'continent': 'Europe', 'subContinent': 'North...   \n",
       "3  {'continent': 'Americas', 'subContinent': 'Nor...   \n",
       "4  {'continent': 'Americas', 'subContinent': 'Nor...   \n",
       "\n",
       "                           customDimensions  \\\n",
       "0                                        []   \n",
       "1           [{'index': 4, 'value': 'APAC'}]   \n",
       "2           [{'index': 4, 'value': 'EMEA'}]   \n",
       "3  [{'index': 4, 'value': 'North America'}]   \n",
       "4  [{'index': 4, 'value': 'North America'}]   \n",
       "\n",
       "                                                hits        fullVisitorId  \\\n",
       "0  [{'hitNumber': 1, 'time': 0, 'hour': 5, 'minut...  3418334011779872055   \n",
       "1  [{'hitNumber': 1, 'time': 0, 'hour': 5, 'minut...  2474397855041322408   \n",
       "2  [{'hitNumber': 1, 'time': 0, 'hour': 12, 'minu...  5870462820713110108   \n",
       "3  [{'hitNumber': 1, 'time': 0, 'hour': 8, 'minut...  9397809171349480379   \n",
       "4  [{'hitNumber': 1, 'time': 0, 'hour': 12, 'minu...  6089902943184578335   \n",
       "\n",
       "  userId clientId channelGrouping  socialEngagementType  \n",
       "0   None     None  Organic Search  Not Socially Engaged  \n",
       "1   None     None        Referral  Not Socially Engaged  \n",
       "2   None     None        Referral  Not Socially Engaged  \n",
       "3   None     None        Referral  Not Socially Engaged  \n",
       "4   None     None        Referral  Not Socially Engaged  "
      ]
     },
     "execution_count": 17,
     "metadata": {},
     "output_type": "execute_result"
    }
   ],
   "source": [
    "%%bigquery\n",
    "\n",
    "SELECT *\n",
    "FROM `bigquery-public-data.google_analytics_sample.ga_sessions_20170801`\n",
    "LIMIT 5;"
   ]
  },
  {
   "cell_type": "markdown",
   "id": "8da2f7f1",
   "metadata": {},
   "source": [
    "We can see from the above that many fields are nested (like totals, device, geoNetwork).\n",
    "\n",
    "Let's check the data types of the table attributes:"
   ]
  },
  {
   "cell_type": "code",
   "execution_count": 18,
   "id": "c5bc5f70",
   "metadata": {},
   "outputs": [
    {
     "data": {
      "application/vnd.jupyter.widget-view+json": {
       "model_id": "dd5512f88efe4def934c5ae1d3919b22",
       "version_major": 2,
       "version_minor": 0
      },
      "text/plain": [
       "Query is running:   0%|          |"
      ]
     },
     "metadata": {},
     "output_type": "display_data"
    },
    {
     "data": {
      "application/vnd.jupyter.widget-view+json": {
       "model_id": "b413ded843fa4b16b24fea27832071d5",
       "version_major": 2,
       "version_minor": 0
      },
      "text/plain": [
       "Downloading:   0%|          |"
      ]
     },
     "metadata": {},
     "output_type": "display_data"
    },
    {
     "data": {
      "text/html": [
       "<div>\n",
       "<style scoped>\n",
       "    .dataframe tbody tr th:only-of-type {\n",
       "        vertical-align: middle;\n",
       "    }\n",
       "\n",
       "    .dataframe tbody tr th {\n",
       "        vertical-align: top;\n",
       "    }\n",
       "\n",
       "    .dataframe thead th {\n",
       "        text-align: right;\n",
       "    }\n",
       "</style>\n",
       "<table border=\"1\" class=\"dataframe\">\n",
       "  <thead>\n",
       "    <tr style=\"text-align: right;\">\n",
       "      <th></th>\n",
       "      <th>column_name</th>\n",
       "      <th>data_type</th>\n",
       "    </tr>\n",
       "  </thead>\n",
       "  <tbody>\n",
       "    <tr>\n",
       "      <th>0</th>\n",
       "      <td>visitorId</td>\n",
       "      <td>INT64</td>\n",
       "    </tr>\n",
       "    <tr>\n",
       "      <th>1</th>\n",
       "      <td>visitNumber</td>\n",
       "      <td>INT64</td>\n",
       "    </tr>\n",
       "    <tr>\n",
       "      <th>2</th>\n",
       "      <td>visitId</td>\n",
       "      <td>INT64</td>\n",
       "    </tr>\n",
       "    <tr>\n",
       "      <th>3</th>\n",
       "      <td>visitStartTime</td>\n",
       "      <td>INT64</td>\n",
       "    </tr>\n",
       "    <tr>\n",
       "      <th>4</th>\n",
       "      <td>date</td>\n",
       "      <td>STRING</td>\n",
       "    </tr>\n",
       "    <tr>\n",
       "      <th>5</th>\n",
       "      <td>totals</td>\n",
       "      <td>STRUCT&lt;visits INT64, hits INT64, pageviews INT...</td>\n",
       "    </tr>\n",
       "    <tr>\n",
       "      <th>6</th>\n",
       "      <td>trafficSource</td>\n",
       "      <td>STRUCT&lt;referralPath STRING, campaign STRING, s...</td>\n",
       "    </tr>\n",
       "    <tr>\n",
       "      <th>7</th>\n",
       "      <td>device</td>\n",
       "      <td>STRUCT&lt;browser STRING, browserVersion STRING, ...</td>\n",
       "    </tr>\n",
       "    <tr>\n",
       "      <th>8</th>\n",
       "      <td>geoNetwork</td>\n",
       "      <td>STRUCT&lt;continent STRING, subContinent STRING, ...</td>\n",
       "    </tr>\n",
       "    <tr>\n",
       "      <th>9</th>\n",
       "      <td>customDimensions</td>\n",
       "      <td>ARRAY&lt;STRUCT&lt;index INT64, value STRING&gt;&gt;</td>\n",
       "    </tr>\n",
       "    <tr>\n",
       "      <th>10</th>\n",
       "      <td>hits</td>\n",
       "      <td>ARRAY&lt;STRUCT&lt;hitNumber INT64, time INT64, hour...</td>\n",
       "    </tr>\n",
       "    <tr>\n",
       "      <th>11</th>\n",
       "      <td>fullVisitorId</td>\n",
       "      <td>STRING</td>\n",
       "    </tr>\n",
       "    <tr>\n",
       "      <th>12</th>\n",
       "      <td>userId</td>\n",
       "      <td>STRING</td>\n",
       "    </tr>\n",
       "    <tr>\n",
       "      <th>13</th>\n",
       "      <td>clientId</td>\n",
       "      <td>STRING</td>\n",
       "    </tr>\n",
       "    <tr>\n",
       "      <th>14</th>\n",
       "      <td>channelGrouping</td>\n",
       "      <td>STRING</td>\n",
       "    </tr>\n",
       "    <tr>\n",
       "      <th>15</th>\n",
       "      <td>socialEngagementType</td>\n",
       "      <td>STRING</td>\n",
       "    </tr>\n",
       "  </tbody>\n",
       "</table>\n",
       "</div>"
      ],
      "text/plain": [
       "             column_name                                          data_type\n",
       "0              visitorId                                              INT64\n",
       "1            visitNumber                                              INT64\n",
       "2                visitId                                              INT64\n",
       "3         visitStartTime                                              INT64\n",
       "4                   date                                             STRING\n",
       "5                 totals  STRUCT<visits INT64, hits INT64, pageviews INT...\n",
       "6          trafficSource  STRUCT<referralPath STRING, campaign STRING, s...\n",
       "7                 device  STRUCT<browser STRING, browserVersion STRING, ...\n",
       "8             geoNetwork  STRUCT<continent STRING, subContinent STRING, ...\n",
       "9       customDimensions           ARRAY<STRUCT<index INT64, value STRING>>\n",
       "10                  hits  ARRAY<STRUCT<hitNumber INT64, time INT64, hour...\n",
       "11         fullVisitorId                                             STRING\n",
       "12                userId                                             STRING\n",
       "13              clientId                                             STRING\n",
       "14       channelGrouping                                             STRING\n",
       "15  socialEngagementType                                             STRING"
      ]
     },
     "execution_count": 18,
     "metadata": {},
     "output_type": "execute_result"
    }
   ],
   "source": [
    "%%bigquery\n",
    "\n",
    "SELECT\n",
    "  column_name,\n",
    "  data_type\n",
    "FROM `bigquery-public-data.google_analytics_sample.INFORMATION_SCHEMA.COLUMNS`\n",
    "WHERE table_name = 'ga_sessions_20170801';"
   ]
  },
  {
   "cell_type": "code",
   "execution_count": 19,
   "id": "84993448",
   "metadata": {},
   "outputs": [
    {
     "data": {
      "application/vnd.jupyter.widget-view+json": {
       "model_id": "dc3d21b99c7c4893882a079f457b0b86",
       "version_major": 2,
       "version_minor": 0
      },
      "text/plain": [
       "Query is running:   0%|          |"
      ]
     },
     "metadata": {},
     "output_type": "display_data"
    },
    {
     "data": {
      "application/vnd.jupyter.widget-view+json": {
       "model_id": "67b64290afe44e9fa62214fc9ab90e67",
       "version_major": 2,
       "version_minor": 0
      },
      "text/plain": [
       "Downloading:   0%|          |"
      ]
     },
     "metadata": {},
     "output_type": "display_data"
    },
    {
     "data": {
      "text/html": [
       "<div>\n",
       "<style scoped>\n",
       "    .dataframe tbody tr th:only-of-type {\n",
       "        vertical-align: middle;\n",
       "    }\n",
       "\n",
       "    .dataframe tbody tr th {\n",
       "        vertical-align: top;\n",
       "    }\n",
       "\n",
       "    .dataframe thead th {\n",
       "        text-align: right;\n",
       "    }\n",
       "</style>\n",
       "<table border=\"1\" class=\"dataframe\">\n",
       "  <thead>\n",
       "    <tr style=\"text-align: right;\">\n",
       "      <th></th>\n",
       "      <th>visits</th>\n",
       "      <th>pageviews</th>\n",
       "      <th>transactionRevenue</th>\n",
       "      <th>deviceCategory</th>\n",
       "      <th>isMobile</th>\n",
       "      <th>source</th>\n",
       "      <th>medium</th>\n",
       "      <th>country</th>\n",
       "    </tr>\n",
       "  </thead>\n",
       "  <tbody>\n",
       "    <tr>\n",
       "      <th>0</th>\n",
       "      <td>1</td>\n",
       "      <td>1</td>\n",
       "      <td>&lt;NA&gt;</td>\n",
       "      <td>desktop</td>\n",
       "      <td>False</td>\n",
       "      <td>(direct)</td>\n",
       "      <td>(none)</td>\n",
       "      <td>Greece</td>\n",
       "    </tr>\n",
       "    <tr>\n",
       "      <th>1</th>\n",
       "      <td>1</td>\n",
       "      <td>1</td>\n",
       "      <td>&lt;NA&gt;</td>\n",
       "      <td>desktop</td>\n",
       "      <td>False</td>\n",
       "      <td>analytics.google.com</td>\n",
       "      <td>referral</td>\n",
       "      <td>India</td>\n",
       "    </tr>\n",
       "    <tr>\n",
       "      <th>2</th>\n",
       "      <td>1</td>\n",
       "      <td>1</td>\n",
       "      <td>&lt;NA&gt;</td>\n",
       "      <td>desktop</td>\n",
       "      <td>False</td>\n",
       "      <td>analytics.google.com</td>\n",
       "      <td>referral</td>\n",
       "      <td>United Kingdom</td>\n",
       "    </tr>\n",
       "    <tr>\n",
       "      <th>3</th>\n",
       "      <td>1</td>\n",
       "      <td>1</td>\n",
       "      <td>&lt;NA&gt;</td>\n",
       "      <td>desktop</td>\n",
       "      <td>False</td>\n",
       "      <td>analytics.google.com</td>\n",
       "      <td>referral</td>\n",
       "      <td>United States</td>\n",
       "    </tr>\n",
       "    <tr>\n",
       "      <th>4</th>\n",
       "      <td>1</td>\n",
       "      <td>1</td>\n",
       "      <td>&lt;NA&gt;</td>\n",
       "      <td>desktop</td>\n",
       "      <td>False</td>\n",
       "      <td>adwords.google.com</td>\n",
       "      <td>referral</td>\n",
       "      <td>United States</td>\n",
       "    </tr>\n",
       "  </tbody>\n",
       "</table>\n",
       "</div>"
      ],
      "text/plain": [
       "   visits  pageviews  transactionRevenue deviceCategory  isMobile  \\\n",
       "0       1          1                <NA>        desktop     False   \n",
       "1       1          1                <NA>        desktop     False   \n",
       "2       1          1                <NA>        desktop     False   \n",
       "3       1          1                <NA>        desktop     False   \n",
       "4       1          1                <NA>        desktop     False   \n",
       "\n",
       "                 source    medium         country  \n",
       "0              (direct)    (none)          Greece  \n",
       "1  analytics.google.com  referral           India  \n",
       "2  analytics.google.com  referral  United Kingdom  \n",
       "3  analytics.google.com  referral   United States  \n",
       "4    adwords.google.com  referral   United States  "
      ]
     },
     "execution_count": 19,
     "metadata": {},
     "output_type": "execute_result"
    }
   ],
   "source": [
    "%%bigquery\n",
    "\n",
    "SELECT\n",
    "  totals.visits,\n",
    "  totals.pageviews,\n",
    "  totals.transactionRevenue,\n",
    "  device.deviceCategory,\n",
    "  device.isMobile,\n",
    "  trafficSource.source,\n",
    "  trafficSource.medium,\n",
    "  geoNetwork.country\n",
    "FROM `bigquery-public-data.google_analytics_sample.ga_sessions_20170801`\n",
    "LIMIT 5;\n"
   ]
  },
  {
   "cell_type": "markdown",
   "id": "5370d92d",
   "metadata": {},
   "source": [
    "Page views column description:"
   ]
  },
  {
   "cell_type": "code",
   "execution_count": 20,
   "id": "8c662ed6",
   "metadata": {},
   "outputs": [
    {
     "data": {
      "application/vnd.jupyter.widget-view+json": {
       "model_id": "4ce6c5d143364f48a4df2118cf477675",
       "version_major": 2,
       "version_minor": 0
      },
      "text/plain": [
       "Query is running:   0%|          |"
      ]
     },
     "metadata": {},
     "output_type": "display_data"
    },
    {
     "data": {
      "application/vnd.jupyter.widget-view+json": {
       "model_id": "6d7d116da9584094a46ce5786f9f0f8b",
       "version_major": 2,
       "version_minor": 0
      },
      "text/plain": [
       "Downloading:   0%|          |"
      ]
     },
     "metadata": {},
     "output_type": "display_data"
    },
    {
     "data": {
      "text/html": [
       "<div>\n",
       "<style scoped>\n",
       "    .dataframe tbody tr th:only-of-type {\n",
       "        vertical-align: middle;\n",
       "    }\n",
       "\n",
       "    .dataframe tbody tr th {\n",
       "        vertical-align: top;\n",
       "    }\n",
       "\n",
       "    .dataframe thead th {\n",
       "        text-align: right;\n",
       "    }\n",
       "</style>\n",
       "<table border=\"1\" class=\"dataframe\">\n",
       "  <thead>\n",
       "    <tr style=\"text-align: right;\">\n",
       "      <th></th>\n",
       "      <th>min_pageviews</th>\n",
       "      <th>max_pageviews</th>\n",
       "      <th>avg_pageviews</th>\n",
       "      <th>std_pageviews</th>\n",
       "      <th>total_rows</th>\n",
       "      <th>null_count</th>\n",
       "    </tr>\n",
       "  </thead>\n",
       "  <tbody>\n",
       "    <tr>\n",
       "      <th>0</th>\n",
       "      <td>1</td>\n",
       "      <td>155</td>\n",
       "      <td>4.279734</td>\n",
       "      <td>7.966343</td>\n",
       "      <td>2556</td>\n",
       "      <td>0</td>\n",
       "    </tr>\n",
       "  </tbody>\n",
       "</table>\n",
       "</div>"
      ],
      "text/plain": [
       "   min_pageviews  max_pageviews  avg_pageviews  std_pageviews  total_rows  \\\n",
       "0              1            155       4.279734       7.966343        2556   \n",
       "\n",
       "   null_count  \n",
       "0           0  "
      ]
     },
     "execution_count": 20,
     "metadata": {},
     "output_type": "execute_result"
    }
   ],
   "source": [
    "%%bigquery\n",
    "\n",
    "SELECT\n",
    "  MIN(totals.pageviews) AS min_pageviews,\n",
    "  MAX(totals.pageviews) AS max_pageviews,\n",
    "  AVG(totals.pageviews) AS avg_pageviews,\n",
    "  STDDEV(totals.pageviews) AS std_pageviews,\n",
    "  COUNT(*) AS total_rows,\n",
    "  COUNTIF(totals.pageviews IS NULL) AS null_count\n",
    "FROM `bigquery-public-data.google_analytics_sample.ga_sessions_20170801`;\n"
   ]
  },
  {
   "cell_type": "markdown",
   "id": "708ab523",
   "metadata": {},
   "source": [
    "Transactions:"
   ]
  },
  {
   "cell_type": "code",
   "execution_count": 21,
   "id": "92dd736a",
   "metadata": {},
   "outputs": [
    {
     "data": {
      "application/vnd.jupyter.widget-view+json": {
       "model_id": "07432422510147459721f9a519cde11f",
       "version_major": 2,
       "version_minor": 0
      },
      "text/plain": [
       "Query is running:   0%|          |"
      ]
     },
     "metadata": {},
     "output_type": "display_data"
    },
    {
     "data": {
      "application/vnd.jupyter.widget-view+json": {
       "model_id": "de8bb1899c4c47f0b1efd4a18f1d50f1",
       "version_major": 2,
       "version_minor": 0
      },
      "text/plain": [
       "Downloading:   0%|          |"
      ]
     },
     "metadata": {},
     "output_type": "display_data"
    },
    {
     "data": {
      "text/html": [
       "<div>\n",
       "<style scoped>\n",
       "    .dataframe tbody tr th:only-of-type {\n",
       "        vertical-align: middle;\n",
       "    }\n",
       "\n",
       "    .dataframe tbody tr th {\n",
       "        vertical-align: top;\n",
       "    }\n",
       "\n",
       "    .dataframe thead th {\n",
       "        text-align: right;\n",
       "    }\n",
       "</style>\n",
       "<table border=\"1\" class=\"dataframe\">\n",
       "  <thead>\n",
       "    <tr style=\"text-align: right;\">\n",
       "      <th></th>\n",
       "      <th>min_transactions</th>\n",
       "      <th>max_transactions</th>\n",
       "      <th>avg_transactions</th>\n",
       "      <th>std_transactions</th>\n",
       "      <th>total_rows</th>\n",
       "      <th>null_count</th>\n",
       "    </tr>\n",
       "  </thead>\n",
       "  <tbody>\n",
       "    <tr>\n",
       "      <th>0</th>\n",
       "      <td>1</td>\n",
       "      <td>2</td>\n",
       "      <td>1.046512</td>\n",
       "      <td>0.213083</td>\n",
       "      <td>2556</td>\n",
       "      <td>2513</td>\n",
       "    </tr>\n",
       "  </tbody>\n",
       "</table>\n",
       "</div>"
      ],
      "text/plain": [
       "   min_transactions  max_transactions  avg_transactions  std_transactions  \\\n",
       "0                 1                 2          1.046512          0.213083   \n",
       "\n",
       "   total_rows  null_count  \n",
       "0        2556        2513  "
      ]
     },
     "execution_count": 21,
     "metadata": {},
     "output_type": "execute_result"
    }
   ],
   "source": [
    "%%bigquery\n",
    "\n",
    "SELECT\n",
    "  MIN(totals.transactions) AS min_transactions,\n",
    "  MAX(totals.transactions) AS max_transactions,\n",
    "  AVG(totals.transactions) AS avg_transactions,\n",
    "  STDDEV(totals.transactions) AS std_transactions,\n",
    "  COUNT(*) AS total_rows,\n",
    "  COUNTIF(totals.transactions IS NULL) AS null_count\n",
    "FROM `bigquery-public-data.google_analytics_sample.ga_sessions_20170801`;"
   ]
  },
  {
   "cell_type": "markdown",
   "id": "708f7df1",
   "metadata": {},
   "source": [
    "it's important to note that in this dataset, totals.transactionRevenue is recorded in micro-units of the currency. Therefore we need to divide the sum by 10^6, in order to convert microdollars to dollars. The revenue metrics will therefore be calculated as follows:"
   ]
  },
  {
   "cell_type": "code",
   "execution_count": 22,
   "id": "dfdc04a5",
   "metadata": {},
   "outputs": [
    {
     "data": {
      "application/vnd.jupyter.widget-view+json": {
       "model_id": "a51831bff3fb4af586acbd186c9e1f22",
       "version_major": 2,
       "version_minor": 0
      },
      "text/plain": [
       "Query is running:   0%|          |"
      ]
     },
     "metadata": {},
     "output_type": "display_data"
    },
    {
     "data": {
      "application/vnd.jupyter.widget-view+json": {
       "model_id": "f49248b1297a49ad980616bf7d912e1f",
       "version_major": 2,
       "version_minor": 0
      },
      "text/plain": [
       "Downloading:   0%|          |"
      ]
     },
     "metadata": {},
     "output_type": "display_data"
    },
    {
     "data": {
      "text/html": [
       "<div>\n",
       "<style scoped>\n",
       "    .dataframe tbody tr th:only-of-type {\n",
       "        vertical-align: middle;\n",
       "    }\n",
       "\n",
       "    .dataframe tbody tr th {\n",
       "        vertical-align: top;\n",
       "    }\n",
       "\n",
       "    .dataframe thead th {\n",
       "        text-align: right;\n",
       "    }\n",
       "</style>\n",
       "<table border=\"1\" class=\"dataframe\">\n",
       "  <thead>\n",
       "    <tr style=\"text-align: right;\">\n",
       "      <th></th>\n",
       "      <th>min_transactionRevenue</th>\n",
       "      <th>max_transactionRevenue</th>\n",
       "      <th>avg_transactionRevenue</th>\n",
       "      <th>std_transactionRevenue</th>\n",
       "      <th>total_rows</th>\n",
       "      <th>null_count</th>\n",
       "    </tr>\n",
       "  </thead>\n",
       "  <tbody>\n",
       "    <tr>\n",
       "      <th>0</th>\n",
       "      <td>1.99</td>\n",
       "      <td>2933.61</td>\n",
       "      <td>193.13814</td>\n",
       "      <td>478.700758</td>\n",
       "      <td>2556</td>\n",
       "      <td>0.002513</td>\n",
       "    </tr>\n",
       "  </tbody>\n",
       "</table>\n",
       "</div>"
      ],
      "text/plain": [
       "   min_transactionRevenue  max_transactionRevenue  avg_transactionRevenue  \\\n",
       "0                    1.99                 2933.61               193.13814   \n",
       "\n",
       "   std_transactionRevenue  total_rows  null_count  \n",
       "0              478.700758        2556    0.002513  "
      ]
     },
     "execution_count": 22,
     "metadata": {},
     "output_type": "execute_result"
    }
   ],
   "source": [
    "%%bigquery\n",
    "\n",
    "SELECT\n",
    "  MIN(totals.transactionRevenue) / 1e6 AS min_transactionRevenue,\n",
    "  MAX(totals.transactionRevenue) / 1e6 AS max_transactionRevenue,\n",
    "  AVG(totals.transactionRevenue) / 1e6 AS avg_transactionRevenue,\n",
    "  STDDEV(totals.transactionRevenue) / 1e6 AS std_transactionRevenue,\n",
    "  COUNT(*) AS total_rows,\n",
    "  COUNTIF(totals.transactionRevenue IS NULL) / 1e6 AS null_count\n",
    "FROM `bigquery-public-data.google_analytics_sample.ga_sessions_20170801`;"
   ]
  },
  {
   "cell_type": "markdown",
   "id": "92161353",
   "metadata": {},
   "source": [
    "## 2. Data Cleaning\n",
    "\n",
    "How many sessions have missing user IDs?"
   ]
  },
  {
   "cell_type": "code",
   "execution_count": 23,
   "id": "e5ece938",
   "metadata": {},
   "outputs": [
    {
     "data": {
      "application/vnd.jupyter.widget-view+json": {
       "model_id": "e9124da02b2442639a1a21b76f8468ae",
       "version_major": 2,
       "version_minor": 0
      },
      "text/plain": [
       "Query is running:   0%|          |"
      ]
     },
     "metadata": {},
     "output_type": "display_data"
    },
    {
     "data": {
      "application/vnd.jupyter.widget-view+json": {
       "model_id": "2fd1739763b341079f5254254607ef3a",
       "version_major": 2,
       "version_minor": 0
      },
      "text/plain": [
       "Downloading:   0%|          |"
      ]
     },
     "metadata": {},
     "output_type": "display_data"
    },
    {
     "data": {
      "text/html": [
       "<div>\n",
       "<style scoped>\n",
       "    .dataframe tbody tr th:only-of-type {\n",
       "        vertical-align: middle;\n",
       "    }\n",
       "\n",
       "    .dataframe tbody tr th {\n",
       "        vertical-align: top;\n",
       "    }\n",
       "\n",
       "    .dataframe thead th {\n",
       "        text-align: right;\n",
       "    }\n",
       "</style>\n",
       "<table border=\"1\" class=\"dataframe\">\n",
       "  <thead>\n",
       "    <tr style=\"text-align: right;\">\n",
       "      <th></th>\n",
       "      <th>sessions_missing_userid</th>\n",
       "    </tr>\n",
       "  </thead>\n",
       "  <tbody>\n",
       "    <tr>\n",
       "      <th>0</th>\n",
       "      <td>0</td>\n",
       "    </tr>\n",
       "  </tbody>\n",
       "</table>\n",
       "</div>"
      ],
      "text/plain": [
       "   sessions_missing_userid\n",
       "0                        0"
      ]
     },
     "execution_count": 23,
     "metadata": {},
     "output_type": "execute_result"
    }
   ],
   "source": [
    "%%bigquery\n",
    "\n",
    "SELECT \n",
    "  COUNT(*) AS sessions_missing_userid\n",
    "FROM `bigquery-public-data.google_analytics_sample.ga_sessions_20170801`\n",
    "WHERE fullVisitorId IS NULL;\n"
   ]
  },
  {
   "cell_type": "markdown",
   "id": "b6ac2e6f",
   "metadata": {},
   "source": [
    "How many sessions have transactions recorded?"
   ]
  },
  {
   "cell_type": "code",
   "execution_count": 24,
   "id": "170b0140",
   "metadata": {},
   "outputs": [
    {
     "data": {
      "application/vnd.jupyter.widget-view+json": {
       "model_id": "e86d8e63c00f41a189f439a4a2659193",
       "version_major": 2,
       "version_minor": 0
      },
      "text/plain": [
       "Query is running:   0%|          |"
      ]
     },
     "metadata": {},
     "output_type": "display_data"
    },
    {
     "data": {
      "application/vnd.jupyter.widget-view+json": {
       "model_id": "2e85cac6bcd5403cb5f4de5bf4539b47",
       "version_major": 2,
       "version_minor": 0
      },
      "text/plain": [
       "Downloading:   0%|          |"
      ]
     },
     "metadata": {},
     "output_type": "display_data"
    },
    {
     "data": {
      "text/html": [
       "<div>\n",
       "<style scoped>\n",
       "    .dataframe tbody tr th:only-of-type {\n",
       "        vertical-align: middle;\n",
       "    }\n",
       "\n",
       "    .dataframe tbody tr th {\n",
       "        vertical-align: top;\n",
       "    }\n",
       "\n",
       "    .dataframe thead th {\n",
       "        text-align: right;\n",
       "    }\n",
       "</style>\n",
       "<table border=\"1\" class=\"dataframe\">\n",
       "  <thead>\n",
       "    <tr style=\"text-align: right;\">\n",
       "      <th></th>\n",
       "      <th>sessions_with_transactions</th>\n",
       "    </tr>\n",
       "  </thead>\n",
       "  <tbody>\n",
       "    <tr>\n",
       "      <th>0</th>\n",
       "      <td>43</td>\n",
       "    </tr>\n",
       "  </tbody>\n",
       "</table>\n",
       "</div>"
      ],
      "text/plain": [
       "   sessions_with_transactions\n",
       "0                          43"
      ]
     },
     "execution_count": 24,
     "metadata": {},
     "output_type": "execute_result"
    }
   ],
   "source": [
    "%%bigquery\n",
    "\n",
    "SELECT \n",
    "  COUNT(*) AS sessions_with_transactions\n",
    "FROM `bigquery-public-data.google_analytics_sample.ga_sessions_20170801`\n",
    "WHERE totals.transactions IS NOT NULL;\n"
   ]
  },
  {
   "cell_type": "markdown",
   "id": "bc7bab00",
   "metadata": {},
   "source": [
    "How many sessions have pageviews?"
   ]
  },
  {
   "cell_type": "code",
   "execution_count": 25,
   "id": "4f8b87f3",
   "metadata": {},
   "outputs": [
    {
     "data": {
      "application/vnd.jupyter.widget-view+json": {
       "model_id": "1142fe9aa7504d74b058b1fc2e2a15d5",
       "version_major": 2,
       "version_minor": 0
      },
      "text/plain": [
       "Query is running:   0%|          |"
      ]
     },
     "metadata": {},
     "output_type": "display_data"
    },
    {
     "data": {
      "application/vnd.jupyter.widget-view+json": {
       "model_id": "823aed16e12c4011a20a9544be287f83",
       "version_major": 2,
       "version_minor": 0
      },
      "text/plain": [
       "Downloading:   0%|          |"
      ]
     },
     "metadata": {},
     "output_type": "display_data"
    },
    {
     "data": {
      "text/html": [
       "<div>\n",
       "<style scoped>\n",
       "    .dataframe tbody tr th:only-of-type {\n",
       "        vertical-align: middle;\n",
       "    }\n",
       "\n",
       "    .dataframe tbody tr th {\n",
       "        vertical-align: top;\n",
       "    }\n",
       "\n",
       "    .dataframe thead th {\n",
       "        text-align: right;\n",
       "    }\n",
       "</style>\n",
       "<table border=\"1\" class=\"dataframe\">\n",
       "  <thead>\n",
       "    <tr style=\"text-align: right;\">\n",
       "      <th></th>\n",
       "      <th>sessions_with_pageviews</th>\n",
       "    </tr>\n",
       "  </thead>\n",
       "  <tbody>\n",
       "    <tr>\n",
       "      <th>0</th>\n",
       "      <td>2556</td>\n",
       "    </tr>\n",
       "  </tbody>\n",
       "</table>\n",
       "</div>"
      ],
      "text/plain": [
       "   sessions_with_pageviews\n",
       "0                     2556"
      ]
     },
     "execution_count": 25,
     "metadata": {},
     "output_type": "execute_result"
    }
   ],
   "source": [
    "%%bigquery\n",
    "\n",
    "SELECT \n",
    "  COUNT(*) AS sessions_with_pageviews\n",
    "FROM `bigquery-public-data.google_analytics_sample.ga_sessions_20170801`\n",
    "WHERE totals.pageviews IS NOT NULL;"
   ]
  },
  {
   "cell_type": "markdown",
   "id": "3cc7bc6a",
   "metadata": {},
   "source": [
    "...which was expected! Now let's check for default 'na' placeholders:"
   ]
  },
  {
   "cell_type": "code",
   "execution_count": 26,
   "id": "1826ef62",
   "metadata": {},
   "outputs": [
    {
     "data": {
      "application/vnd.jupyter.widget-view+json": {
       "model_id": "0f1a44601dbc4f56b24b41f3be9a36b4",
       "version_major": 2,
       "version_minor": 0
      },
      "text/plain": [
       "Query is running:   0%|          |"
      ]
     },
     "metadata": {},
     "output_type": "display_data"
    },
    {
     "data": {
      "application/vnd.jupyter.widget-view+json": {
       "model_id": "a1e08c1edf4b403dafbe3f1e9eb5bec2",
       "version_major": 2,
       "version_minor": 0
      },
      "text/plain": [
       "Downloading:   0%|          |"
      ]
     },
     "metadata": {},
     "output_type": "display_data"
    },
    {
     "data": {
      "text/html": [
       "<div>\n",
       "<style scoped>\n",
       "    .dataframe tbody tr th:only-of-type {\n",
       "        vertical-align: middle;\n",
       "    }\n",
       "\n",
       "    .dataframe tbody tr th {\n",
       "        vertical-align: top;\n",
       "    }\n",
       "\n",
       "    .dataframe thead th {\n",
       "        text-align: right;\n",
       "    }\n",
       "</style>\n",
       "<table border=\"1\" class=\"dataframe\">\n",
       "  <thead>\n",
       "    <tr style=\"text-align: right;\">\n",
       "      <th></th>\n",
       "      <th>source</th>\n",
       "      <th>session_count</th>\n",
       "    </tr>\n",
       "  </thead>\n",
       "  <tbody>\n",
       "    <tr>\n",
       "      <th>0</th>\n",
       "      <td>(direct)</td>\n",
       "      <td>2166</td>\n",
       "    </tr>\n",
       "    <tr>\n",
       "      <th>1</th>\n",
       "      <td>youtube.com</td>\n",
       "      <td>180</td>\n",
       "    </tr>\n",
       "    <tr>\n",
       "      <th>2</th>\n",
       "      <td>analytics.google.com</td>\n",
       "      <td>57</td>\n",
       "    </tr>\n",
       "    <tr>\n",
       "      <th>3</th>\n",
       "      <td>Partners</td>\n",
       "      <td>52</td>\n",
       "    </tr>\n",
       "    <tr>\n",
       "      <th>4</th>\n",
       "      <td>dfa</td>\n",
       "      <td>15</td>\n",
       "    </tr>\n",
       "    <tr>\n",
       "      <th>5</th>\n",
       "      <td>google.com</td>\n",
       "      <td>12</td>\n",
       "    </tr>\n",
       "    <tr>\n",
       "      <th>6</th>\n",
       "      <td>sites.google.com</td>\n",
       "      <td>8</td>\n",
       "    </tr>\n",
       "    <tr>\n",
       "      <th>7</th>\n",
       "      <td>facebook.com</td>\n",
       "      <td>7</td>\n",
       "    </tr>\n",
       "    <tr>\n",
       "      <th>8</th>\n",
       "      <td>quora.com</td>\n",
       "      <td>6</td>\n",
       "    </tr>\n",
       "    <tr>\n",
       "      <th>9</th>\n",
       "      <td>baidu</td>\n",
       "      <td>5</td>\n",
       "    </tr>\n",
       "    <tr>\n",
       "      <th>10</th>\n",
       "      <td>qiita.com</td>\n",
       "      <td>5</td>\n",
       "    </tr>\n",
       "    <tr>\n",
       "      <th>11</th>\n",
       "      <td>m.facebook.com</td>\n",
       "      <td>5</td>\n",
       "    </tr>\n",
       "    <tr>\n",
       "      <th>12</th>\n",
       "      <td>groups.google.com</td>\n",
       "      <td>4</td>\n",
       "    </tr>\n",
       "    <tr>\n",
       "      <th>13</th>\n",
       "      <td>reddit.com</td>\n",
       "      <td>4</td>\n",
       "    </tr>\n",
       "    <tr>\n",
       "      <th>14</th>\n",
       "      <td>blog.golang.org</td>\n",
       "      <td>3</td>\n",
       "    </tr>\n",
       "    <tr>\n",
       "      <th>15</th>\n",
       "      <td>l.facebook.com</td>\n",
       "      <td>3</td>\n",
       "    </tr>\n",
       "    <tr>\n",
       "      <th>16</th>\n",
       "      <td>adwords.google.com</td>\n",
       "      <td>2</td>\n",
       "    </tr>\n",
       "    <tr>\n",
       "      <th>17</th>\n",
       "      <td>ask</td>\n",
       "      <td>2</td>\n",
       "    </tr>\n",
       "    <tr>\n",
       "      <th>18</th>\n",
       "      <td>mail.google.com</td>\n",
       "      <td>2</td>\n",
       "    </tr>\n",
       "    <tr>\n",
       "      <th>19</th>\n",
       "      <td>yahoo</td>\n",
       "      <td>2</td>\n",
       "    </tr>\n",
       "    <tr>\n",
       "      <th>20</th>\n",
       "      <td>lm.facebook.com</td>\n",
       "      <td>2</td>\n",
       "    </tr>\n",
       "    <tr>\n",
       "      <th>21</th>\n",
       "      <td>productforums.google.com</td>\n",
       "      <td>1</td>\n",
       "    </tr>\n",
       "    <tr>\n",
       "      <th>22</th>\n",
       "      <td>datastudio.google.com</td>\n",
       "      <td>1</td>\n",
       "    </tr>\n",
       "    <tr>\n",
       "      <th>23</th>\n",
       "      <td>sashihara.jp</td>\n",
       "      <td>1</td>\n",
       "    </tr>\n",
       "    <tr>\n",
       "      <th>24</th>\n",
       "      <td>m.baidu.com</td>\n",
       "      <td>1</td>\n",
       "    </tr>\n",
       "    <tr>\n",
       "      <th>25</th>\n",
       "      <td>ph.search.yahoo.com</td>\n",
       "      <td>1</td>\n",
       "    </tr>\n",
       "    <tr>\n",
       "      <th>26</th>\n",
       "      <td>support.google.com</td>\n",
       "      <td>1</td>\n",
       "    </tr>\n",
       "    <tr>\n",
       "      <th>27</th>\n",
       "      <td>google.com.vn</td>\n",
       "      <td>1</td>\n",
       "    </tr>\n",
       "    <tr>\n",
       "      <th>28</th>\n",
       "      <td>google.com.tw</td>\n",
       "      <td>1</td>\n",
       "    </tr>\n",
       "    <tr>\n",
       "      <th>29</th>\n",
       "      <td>int.search.tb.ask.com</td>\n",
       "      <td>1</td>\n",
       "    </tr>\n",
       "    <tr>\n",
       "      <th>30</th>\n",
       "      <td>docs.google.com</td>\n",
       "      <td>1</td>\n",
       "    </tr>\n",
       "    <tr>\n",
       "      <th>31</th>\n",
       "      <td>bing</td>\n",
       "      <td>1</td>\n",
       "    </tr>\n",
       "    <tr>\n",
       "      <th>32</th>\n",
       "      <td>away.vk.com</td>\n",
       "      <td>1</td>\n",
       "    </tr>\n",
       "    <tr>\n",
       "      <th>33</th>\n",
       "      <td>pinterest.com</td>\n",
       "      <td>1</td>\n",
       "    </tr>\n",
       "    <tr>\n",
       "      <th>34</th>\n",
       "      <td>dealspotr.com</td>\n",
       "      <td>1</td>\n",
       "    </tr>\n",
       "  </tbody>\n",
       "</table>\n",
       "</div>"
      ],
      "text/plain": [
       "                      source  session_count\n",
       "0                   (direct)           2166\n",
       "1                youtube.com            180\n",
       "2       analytics.google.com             57\n",
       "3                   Partners             52\n",
       "4                        dfa             15\n",
       "5                 google.com             12\n",
       "6           sites.google.com              8\n",
       "7               facebook.com              7\n",
       "8                  quora.com              6\n",
       "9                      baidu              5\n",
       "10                 qiita.com              5\n",
       "11            m.facebook.com              5\n",
       "12         groups.google.com              4\n",
       "13                reddit.com              4\n",
       "14           blog.golang.org              3\n",
       "15            l.facebook.com              3\n",
       "16        adwords.google.com              2\n",
       "17                       ask              2\n",
       "18           mail.google.com              2\n",
       "19                     yahoo              2\n",
       "20           lm.facebook.com              2\n",
       "21  productforums.google.com              1\n",
       "22     datastudio.google.com              1\n",
       "23              sashihara.jp              1\n",
       "24               m.baidu.com              1\n",
       "25       ph.search.yahoo.com              1\n",
       "26        support.google.com              1\n",
       "27             google.com.vn              1\n",
       "28             google.com.tw              1\n",
       "29     int.search.tb.ask.com              1\n",
       "30           docs.google.com              1\n",
       "31                      bing              1\n",
       "32               away.vk.com              1\n",
       "33             pinterest.com              1\n",
       "34             dealspotr.com              1"
      ]
     },
     "execution_count": 26,
     "metadata": {},
     "output_type": "execute_result"
    }
   ],
   "source": [
    "%%bigquery\n",
    "\n",
    "SELECT\n",
    "  trafficSource.source,\n",
    "  COUNT(*) AS session_count\n",
    "FROM `bigquery-public-data.google_analytics_sample.ga_sessions_20170801`\n",
    "GROUP BY trafficSource.source\n",
    "ORDER BY session_count DESC;\n"
   ]
  },
  {
   "cell_type": "markdown",
   "id": "6f88dd73",
   "metadata": {},
   "source": [
    "There is none present, which is good. Let's now check locations:"
   ]
  },
  {
   "cell_type": "markdown",
   "id": "159c7d45",
   "metadata": {},
   "source": [
    "## 3. Exploratory Data Analysis (EDA)\n",
    "\n",
    "In this section, we will investigate the business questions defined earlier, namely:\n",
    "- Which traffic sources bring the most users and/or revenue?\n",
    "- What device types are most common among buyers?\n",
    "- Are new users or returning users more likely to make a purchase?\n",
    "- Which countries generate the most sessions or revenue?\n",
    "\n",
    "### Traffic Sources\n",
    "\n",
    "I'll start below by:\n",
    "\n",
    "- Aggregating sessions and revenue by trafficSource.source and trafficSource.medium.\n",
    "- Ranking sources by number of sessions and by transaction revenue."
   ]
  },
  {
   "cell_type": "code",
   "execution_count": 27,
   "id": "ccb8c34a",
   "metadata": {},
   "outputs": [
    {
     "data": {
      "application/vnd.jupyter.widget-view+json": {
       "model_id": "dcbac8f6a2604ed18247d5bd841df124",
       "version_major": 2,
       "version_minor": 0
      },
      "text/plain": [
       "Query is running:   0%|          |"
      ]
     },
     "metadata": {},
     "output_type": "display_data"
    },
    {
     "data": {
      "application/vnd.jupyter.widget-view+json": {
       "model_id": "f5fbfaca4e3f4ce5bced974fdf557647",
       "version_major": 2,
       "version_minor": 0
      },
      "text/plain": [
       "Downloading:   0%|          |"
      ]
     },
     "metadata": {},
     "output_type": "display_data"
    },
    {
     "data": {
      "text/html": [
       "<div>\n",
       "<style scoped>\n",
       "    .dataframe tbody tr th:only-of-type {\n",
       "        vertical-align: middle;\n",
       "    }\n",
       "\n",
       "    .dataframe tbody tr th {\n",
       "        vertical-align: top;\n",
       "    }\n",
       "\n",
       "    .dataframe thead th {\n",
       "        text-align: right;\n",
       "    }\n",
       "</style>\n",
       "<table border=\"1\" class=\"dataframe\">\n",
       "  <thead>\n",
       "    <tr style=\"text-align: right;\">\n",
       "      <th></th>\n",
       "      <th>source</th>\n",
       "      <th>session_count</th>\n",
       "    </tr>\n",
       "  </thead>\n",
       "  <tbody>\n",
       "    <tr>\n",
       "      <th>0</th>\n",
       "      <td>(direct)</td>\n",
       "      <td>2166</td>\n",
       "    </tr>\n",
       "    <tr>\n",
       "      <th>1</th>\n",
       "      <td>youtube.com</td>\n",
       "      <td>180</td>\n",
       "    </tr>\n",
       "    <tr>\n",
       "      <th>2</th>\n",
       "      <td>analytics.google.com</td>\n",
       "      <td>57</td>\n",
       "    </tr>\n",
       "    <tr>\n",
       "      <th>3</th>\n",
       "      <td>Partners</td>\n",
       "      <td>52</td>\n",
       "    </tr>\n",
       "    <tr>\n",
       "      <th>4</th>\n",
       "      <td>dfa</td>\n",
       "      <td>15</td>\n",
       "    </tr>\n",
       "  </tbody>\n",
       "</table>\n",
       "</div>"
      ],
      "text/plain": [
       "                 source  session_count\n",
       "0              (direct)           2166\n",
       "1           youtube.com            180\n",
       "2  analytics.google.com             57\n",
       "3              Partners             52\n",
       "4                   dfa             15"
      ]
     },
     "execution_count": 27,
     "metadata": {},
     "output_type": "execute_result"
    }
   ],
   "source": [
    "%%bigquery\n",
    "# Ranking traffic sources by session count\n",
    "\n",
    "SELECT\n",
    "    trafficSource.source,\n",
    "    COUNT(*) AS session_count\n",
    "FROM `bigquery-public-data.google_analytics_sample.ga_sessions_20170801`\n",
    "GROUP BY trafficSource.source\n",
    "ORDER BY session_count DESC\n",
    "LIMIT 5;"
   ]
  },
  {
   "cell_type": "markdown",
   "id": "6829654c",
   "metadata": {},
   "source": [
    "Prior to getting the revenue of traffic sources, it's important to note that in this dataset, totals.transactionRevenue is recorded in micro-units of the currency. Therefore we need to divide the sum by 10^6, in order to convert microdollars to dollars:"
   ]
  },
  {
   "cell_type": "code",
   "execution_count": 28,
   "id": "90d5b002",
   "metadata": {},
   "outputs": [
    {
     "data": {
      "application/vnd.jupyter.widget-view+json": {
       "model_id": "df6a184bc22e4332864955f1f22828e2",
       "version_major": 2,
       "version_minor": 0
      },
      "text/plain": [
       "Query is running:   0%|          |"
      ]
     },
     "metadata": {},
     "output_type": "display_data"
    },
    {
     "data": {
      "application/vnd.jupyter.widget-view+json": {
       "model_id": "649fc4f600214c3a8e8add452fc7bd2f",
       "version_major": 2,
       "version_minor": 0
      },
      "text/plain": [
       "Downloading:   0%|          |"
      ]
     },
     "metadata": {},
     "output_type": "display_data"
    },
    {
     "data": {
      "text/html": [
       "<div>\n",
       "<style scoped>\n",
       "    .dataframe tbody tr th:only-of-type {\n",
       "        vertical-align: middle;\n",
       "    }\n",
       "\n",
       "    .dataframe tbody tr th {\n",
       "        vertical-align: top;\n",
       "    }\n",
       "\n",
       "    .dataframe thead th {\n",
       "        text-align: right;\n",
       "    }\n",
       "</style>\n",
       "<table border=\"1\" class=\"dataframe\">\n",
       "  <thead>\n",
       "    <tr style=\"text-align: right;\">\n",
       "      <th></th>\n",
       "      <th>source</th>\n",
       "      <th>sources_revenue_million</th>\n",
       "    </tr>\n",
       "  </thead>\n",
       "  <tbody>\n",
       "    <tr>\n",
       "      <th>0</th>\n",
       "      <td>(direct)</td>\n",
       "      <td>8292.98</td>\n",
       "    </tr>\n",
       "    <tr>\n",
       "      <th>1</th>\n",
       "      <td>mail.google.com</td>\n",
       "      <td>11.96</td>\n",
       "    </tr>\n",
       "    <tr>\n",
       "      <th>2</th>\n",
       "      <td>analytics.google.com</td>\n",
       "      <td>NaN</td>\n",
       "    </tr>\n",
       "    <tr>\n",
       "      <th>3</th>\n",
       "      <td>adwords.google.com</td>\n",
       "      <td>NaN</td>\n",
       "    </tr>\n",
       "    <tr>\n",
       "      <th>4</th>\n",
       "      <td>ask</td>\n",
       "      <td>NaN</td>\n",
       "    </tr>\n",
       "  </tbody>\n",
       "</table>\n",
       "</div>"
      ],
      "text/plain": [
       "                 source  sources_revenue_million\n",
       "0              (direct)                  8292.98\n",
       "1       mail.google.com                    11.96\n",
       "2  analytics.google.com                      NaN\n",
       "3    adwords.google.com                      NaN\n",
       "4                   ask                      NaN"
      ]
     },
     "execution_count": 28,
     "metadata": {},
     "output_type": "execute_result"
    }
   ],
   "source": [
    "%%bigquery\n",
    "# Ranking traffic sources by revenue in million dollars\n",
    "\n",
    "SELECT\n",
    "    trafficSource.source,\n",
    "    SUM(totals.transactionRevenue) / 1e6 AS sources_revenue_million\n",
    "FROM `bigquery-public-data.google_analytics_sample.ga_sessions_20170801`\n",
    "GROUP BY trafficSource.source\n",
    "ORDER BY sources_revenue_million DESC\n",
    "LIMIT 5;"
   ]
  },
  {
   "cell_type": "markdown",
   "id": "0538b684",
   "metadata": {},
   "source": [
    "So (direct) traffic is the main source of visitors and generated $8,292.98 of revenue; mail.google.com generated $11.96 of revenue, while the remaining sources (analytics.google.com, etc.) generated no revenue."
   ]
  },
  {
   "cell_type": "code",
   "execution_count": 29,
   "id": "d4f566ff",
   "metadata": {},
   "outputs": [
    {
     "data": {
      "application/vnd.jupyter.widget-view+json": {
       "model_id": "403a15681e7b4f178dcf7b140e120bab",
       "version_major": 2,
       "version_minor": 0
      },
      "text/plain": [
       "Query is running:   0%|          |"
      ]
     },
     "metadata": {},
     "output_type": "display_data"
    },
    {
     "data": {
      "application/vnd.jupyter.widget-view+json": {
       "model_id": "6beb48b0164f4c0eb55ace4a5d9893e8",
       "version_major": 2,
       "version_minor": 0
      },
      "text/plain": [
       "Downloading:   0%|          |"
      ]
     },
     "metadata": {},
     "output_type": "display_data"
    },
    {
     "data": {
      "text/html": [
       "<div>\n",
       "<style scoped>\n",
       "    .dataframe tbody tr th:only-of-type {\n",
       "        vertical-align: middle;\n",
       "    }\n",
       "\n",
       "    .dataframe tbody tr th {\n",
       "        vertical-align: top;\n",
       "    }\n",
       "\n",
       "    .dataframe thead th {\n",
       "        text-align: right;\n",
       "    }\n",
       "</style>\n",
       "<table border=\"1\" class=\"dataframe\">\n",
       "  <thead>\n",
       "    <tr style=\"text-align: right;\">\n",
       "      <th></th>\n",
       "      <th>medium</th>\n",
       "      <th>session_count</th>\n",
       "    </tr>\n",
       "  </thead>\n",
       "  <tbody>\n",
       "    <tr>\n",
       "      <th>0</th>\n",
       "      <td>(none)</td>\n",
       "      <td>2166</td>\n",
       "    </tr>\n",
       "    <tr>\n",
       "      <th>1</th>\n",
       "      <td>referral</td>\n",
       "      <td>313</td>\n",
       "    </tr>\n",
       "    <tr>\n",
       "      <th>2</th>\n",
       "      <td>affiliate</td>\n",
       "      <td>52</td>\n",
       "    </tr>\n",
       "    <tr>\n",
       "      <th>3</th>\n",
       "      <td>cpm</td>\n",
       "      <td>15</td>\n",
       "    </tr>\n",
       "    <tr>\n",
       "      <th>4</th>\n",
       "      <td>organic</td>\n",
       "      <td>10</td>\n",
       "    </tr>\n",
       "  </tbody>\n",
       "</table>\n",
       "</div>"
      ],
      "text/plain": [
       "      medium  session_count\n",
       "0     (none)           2166\n",
       "1   referral            313\n",
       "2  affiliate             52\n",
       "3        cpm             15\n",
       "4    organic             10"
      ]
     },
     "execution_count": 29,
     "metadata": {},
     "output_type": "execute_result"
    }
   ],
   "source": [
    "%%bigquery\n",
    "# Ranking traffic by medium\n",
    "\n",
    "SELECT\n",
    "    trafficSource.medium,\n",
    "    COUNT(*) AS session_count\n",
    "FROM `bigquery-public-data.google_analytics_sample.ga_sessions_20170801`\n",
    "GROUP BY trafficSource.medium\n",
    "ORDER BY session_count DESC\n",
    "LIMIT 10;"
   ]
  },
  {
   "cell_type": "markdown",
   "id": "fb70ec86",
   "metadata": {},
   "source": [
    "The different medium definitions are as follows:\n",
    "\n",
    "| Medium    | Meaning |\n",
    "|:----------|:--------|\n",
    "| (none)    | Direct traffic (e.g. entering the URL directly) |\n",
    "| referral  | Clicking on a link from another website |\n",
    "| affiliate | Traffic from affiliate marketing partners |\n",
    "| cpm       | Paid display ads (Cost per Mille = 1000 impressions) |\n",
    "| organic   | Organic search (unpaid results from Google, etc.) |"
   ]
  },
  {
   "cell_type": "markdown",
   "id": "b0e2204b",
   "metadata": {},
   "source": [
    "### Device Analysis\n",
    "\n",
    "We'll next breakdown sessions, transactions, and revenue by device Category and whether the device was mobile or not:"
   ]
  },
  {
   "cell_type": "code",
   "execution_count": 30,
   "id": "69c73cec",
   "metadata": {},
   "outputs": [
    {
     "data": {
      "application/vnd.jupyter.widget-view+json": {
       "model_id": "94fe77cc4df04ccebe69fd064305fe61",
       "version_major": 2,
       "version_minor": 0
      },
      "text/plain": [
       "Query is running:   0%|          |"
      ]
     },
     "metadata": {},
     "output_type": "display_data"
    },
    {
     "data": {
      "application/vnd.jupyter.widget-view+json": {
       "model_id": "758b6ca757544b1ba9684eaad1654001",
       "version_major": 2,
       "version_minor": 0
      },
      "text/plain": [
       "Downloading:   0%|          |"
      ]
     },
     "metadata": {},
     "output_type": "display_data"
    },
    {
     "data": {
      "text/html": [
       "<div>\n",
       "<style scoped>\n",
       "    .dataframe tbody tr th:only-of-type {\n",
       "        vertical-align: middle;\n",
       "    }\n",
       "\n",
       "    .dataframe tbody tr th {\n",
       "        vertical-align: top;\n",
       "    }\n",
       "\n",
       "    .dataframe thead th {\n",
       "        text-align: right;\n",
       "    }\n",
       "</style>\n",
       "<table border=\"1\" class=\"dataframe\">\n",
       "  <thead>\n",
       "    <tr style=\"text-align: right;\">\n",
       "      <th></th>\n",
       "      <th>deviceCategory</th>\n",
       "      <th>device_count</th>\n",
       "    </tr>\n",
       "  </thead>\n",
       "  <tbody>\n",
       "    <tr>\n",
       "      <th>0</th>\n",
       "      <td>desktop</td>\n",
       "      <td>1742</td>\n",
       "    </tr>\n",
       "    <tr>\n",
       "      <th>1</th>\n",
       "      <td>mobile</td>\n",
       "      <td>725</td>\n",
       "    </tr>\n",
       "    <tr>\n",
       "      <th>2</th>\n",
       "      <td>tablet</td>\n",
       "      <td>89</td>\n",
       "    </tr>\n",
       "  </tbody>\n",
       "</table>\n",
       "</div>"
      ],
      "text/plain": [
       "  deviceCategory  device_count\n",
       "0        desktop          1742\n",
       "1         mobile           725\n",
       "2         tablet            89"
      ]
     },
     "execution_count": 30,
     "metadata": {},
     "output_type": "execute_result"
    }
   ],
   "source": [
    "%%bigquery\n",
    "\n",
    "SELECT\n",
    "  device.deviceCategory,\n",
    "  COUNT(*) AS device_count\n",
    "FROM `bigquery-public-data.google_analytics_sample.ga_sessions_20170801`\n",
    "GROUP BY device.deviceCategory\n",
    "ORDER BY device_count DESC;"
   ]
  },
  {
   "cell_type": "code",
   "execution_count": 31,
   "id": "0289acad",
   "metadata": {},
   "outputs": [
    {
     "data": {
      "application/vnd.jupyter.widget-view+json": {
       "model_id": "769fd8f336b241489f19aa90bbddbfd6",
       "version_major": 2,
       "version_minor": 0
      },
      "text/plain": [
       "Query is running:   0%|          |"
      ]
     },
     "metadata": {},
     "output_type": "display_data"
    },
    {
     "data": {
      "application/vnd.jupyter.widget-view+json": {
       "model_id": "6654d8dc14364197a22f6183c9873513",
       "version_major": 2,
       "version_minor": 0
      },
      "text/plain": [
       "Downloading:   0%|          |"
      ]
     },
     "metadata": {},
     "output_type": "display_data"
    },
    {
     "data": {
      "text/html": [
       "<div>\n",
       "<style scoped>\n",
       "    .dataframe tbody tr th:only-of-type {\n",
       "        vertical-align: middle;\n",
       "    }\n",
       "\n",
       "    .dataframe tbody tr th {\n",
       "        vertical-align: top;\n",
       "    }\n",
       "\n",
       "    .dataframe thead th {\n",
       "        text-align: right;\n",
       "    }\n",
       "</style>\n",
       "<table border=\"1\" class=\"dataframe\">\n",
       "  <thead>\n",
       "    <tr style=\"text-align: right;\">\n",
       "      <th></th>\n",
       "      <th>isMobile</th>\n",
       "      <th>device_count</th>\n",
       "    </tr>\n",
       "  </thead>\n",
       "  <tbody>\n",
       "    <tr>\n",
       "      <th>0</th>\n",
       "      <td>False</td>\n",
       "      <td>1741</td>\n",
       "    </tr>\n",
       "    <tr>\n",
       "      <th>1</th>\n",
       "      <td>True</td>\n",
       "      <td>815</td>\n",
       "    </tr>\n",
       "  </tbody>\n",
       "</table>\n",
       "</div>"
      ],
      "text/plain": [
       "   isMobile  device_count\n",
       "0     False          1741\n",
       "1      True           815"
      ]
     },
     "execution_count": 31,
     "metadata": {},
     "output_type": "execute_result"
    }
   ],
   "source": [
    "%%bigquery\n",
    "\n",
    "SELECT\n",
    "  device.isMobile,\n",
    "  COUNT(*) AS device_count\n",
    "FROM `bigquery-public-data.google_analytics_sample.ga_sessions_20170801`\n",
    "GROUP BY device.isMobile\n",
    "ORDER BY device_count DESC;"
   ]
  },
  {
   "cell_type": "markdown",
   "id": "a926ed91",
   "metadata": {},
   "source": [
    "The results show that approximately 2/3 of the sessions come from Desktop devices, whereas mobiles and tablets account for the remaining 1/3.\n",
    "\n",
    "### User Type Analysis\n",
    "\n",
    "In order to tell if a user is new or returning, we'll use the totals.newVisits column, where:\n",
    "- 1 = New visitor\n",
    "- NULL = Returning visitor\n",
    "\n",
    "I'll also create a metric to calculate conversion rates. This will be:\n",
    "a) the number of transactions per visit (Conversion Rate = transactions/sessions) and \n",
    "b) the revnue of transactions per visit, for the two visitor categories defined above."
   ]
  },
  {
   "cell_type": "code",
   "execution_count": 32,
   "id": "a83cb444",
   "metadata": {},
   "outputs": [
    {
     "data": {
      "application/vnd.jupyter.widget-view+json": {
       "model_id": "cd24cca7439c4f4787e09c71f2525df0",
       "version_major": 2,
       "version_minor": 0
      },
      "text/plain": [
       "Query is running:   0%|          |"
      ]
     },
     "metadata": {},
     "output_type": "display_data"
    },
    {
     "data": {
      "application/vnd.jupyter.widget-view+json": {
       "model_id": "c1b7eb0b12884909b7168119957ae713",
       "version_major": 2,
       "version_minor": 0
      },
      "text/plain": [
       "Downloading:   0%|          |"
      ]
     },
     "metadata": {},
     "output_type": "display_data"
    },
    {
     "data": {
      "text/html": [
       "<div>\n",
       "<style scoped>\n",
       "    .dataframe tbody tr th:only-of-type {\n",
       "        vertical-align: middle;\n",
       "    }\n",
       "\n",
       "    .dataframe tbody tr th {\n",
       "        vertical-align: top;\n",
       "    }\n",
       "\n",
       "    .dataframe thead th {\n",
       "        text-align: right;\n",
       "    }\n",
       "</style>\n",
       "<table border=\"1\" class=\"dataframe\">\n",
       "  <thead>\n",
       "    <tr style=\"text-align: right;\">\n",
       "      <th></th>\n",
       "      <th>user_type</th>\n",
       "      <th>returning_user_count</th>\n",
       "      <th>total_transactions</th>\n",
       "      <th>conversion_rate</th>\n",
       "      <th>transaction_revenue_visitor</th>\n",
       "      <th>transaction_revenue_per_visitor</th>\n",
       "    </tr>\n",
       "  </thead>\n",
       "  <tbody>\n",
       "    <tr>\n",
       "      <th>0</th>\n",
       "      <td>returning_visitor</td>\n",
       "      <td>684</td>\n",
       "      <td>34</td>\n",
       "      <td>0.049708</td>\n",
       "      <td>7630.46</td>\n",
       "      <td>11.155643</td>\n",
       "    </tr>\n",
       "    <tr>\n",
       "      <th>1</th>\n",
       "      <td>new_visitors</td>\n",
       "      <td>1872</td>\n",
       "      <td>11</td>\n",
       "      <td>0.005876</td>\n",
       "      <td>674.48</td>\n",
       "      <td>0.360299</td>\n",
       "    </tr>\n",
       "  </tbody>\n",
       "</table>\n",
       "</div>"
      ],
      "text/plain": [
       "           user_type  returning_user_count  total_transactions  \\\n",
       "0  returning_visitor                   684                  34   \n",
       "1       new_visitors                  1872                  11   \n",
       "\n",
       "   conversion_rate  transaction_revenue_visitor  \\\n",
       "0         0.049708                      7630.46   \n",
       "1         0.005876                       674.48   \n",
       "\n",
       "   transaction_revenue_per_visitor  \n",
       "0                        11.155643  \n",
       "1                         0.360299  "
      ]
     },
     "execution_count": 32,
     "metadata": {},
     "output_type": "execute_result"
    }
   ],
   "source": [
    "%%bigquery\n",
    "\n",
    "SELECT\n",
    "    CASE WHEN\n",
    "        totals.newVisits = 1 THEN 'new_visitors'\n",
    "        ELSE 'returning_visitor'\n",
    "    -- Create a new column\n",
    "    END AS user_type,\n",
    "    COUNT(*) AS returning_user_count,\n",
    "    SUM(totals.transactions) AS total_transactions,\n",
    "    SUM(totals.transactions) / COUNT(*) AS conversion_rate,\n",
    "    SUM(totals.transactionRevenue) / 1e6 AS transaction_revenue_visitor,\n",
    "    SUM(totals.transactionRevenue) / 1e6 / COUNT(*) AS transaction_revenue_per_visitor\n",
    "FROM `bigquery-public-data.google_analytics_sample.ga_sessions_20170801`\n",
    "GROUP BY user_type\n",
    "ORDER BY transaction_revenue_visitor DESC;"
   ]
  },
  {
   "cell_type": "markdown",
   "id": "bb38274c",
   "metadata": {},
   "source": [
    "So we have 1872 new users and 684 returning users. However, returning visitors are significantly more valuable that new visitors:\n",
    "- They  make way more purchases (34 transactions vs 11)\n",
    "- Conversion rate (~4.97%) is almost 8.5x higher than new visitors (~0.59%)\n",
    "- Returning visitors generated 7630 USD, compared to 674 USD for new visitors (11.3x more)\n",
    "- Returning visitors spend $11.16 per session, whereas new visitors spend only $0.36 per session"
   ]
  },
  {
   "cell_type": "markdown",
   "id": "787dff53",
   "metadata": {},
   "source": [
    "### Geographic Analysis"
   ]
  },
  {
   "cell_type": "code",
   "execution_count": 33,
   "id": "e1a87da4",
   "metadata": {},
   "outputs": [
    {
     "data": {
      "application/vnd.jupyter.widget-view+json": {
       "model_id": "8236311cf4f44fe6af93974e1d6877b0",
       "version_major": 2,
       "version_minor": 0
      },
      "text/plain": [
       "Query is running:   0%|          |"
      ]
     },
     "metadata": {},
     "output_type": "display_data"
    },
    {
     "data": {
      "application/vnd.jupyter.widget-view+json": {
       "model_id": "f92b471e2e5a4c628c8a458648933cb0",
       "version_major": 2,
       "version_minor": 0
      },
      "text/plain": [
       "Downloading:   0%|          |"
      ]
     },
     "metadata": {},
     "output_type": "display_data"
    },
    {
     "data": {
      "text/html": [
       "<div>\n",
       "<style scoped>\n",
       "    .dataframe tbody tr th:only-of-type {\n",
       "        vertical-align: middle;\n",
       "    }\n",
       "\n",
       "    .dataframe tbody tr th {\n",
       "        vertical-align: top;\n",
       "    }\n",
       "\n",
       "    .dataframe thead th {\n",
       "        text-align: right;\n",
       "    }\n",
       "</style>\n",
       "<table border=\"1\" class=\"dataframe\">\n",
       "  <thead>\n",
       "    <tr style=\"text-align: right;\">\n",
       "      <th></th>\n",
       "      <th>country</th>\n",
       "      <th>country_count</th>\n",
       "      <th>revenue_per_country</th>\n",
       "      <th>transactions_session</th>\n",
       "      <th>transaction_revenue_per_visitor</th>\n",
       "    </tr>\n",
       "  </thead>\n",
       "  <tbody>\n",
       "    <tr>\n",
       "      <th>0</th>\n",
       "      <td>United States</td>\n",
       "      <td>1287</td>\n",
       "      <td>8301.95</td>\n",
       "      <td>0.034188</td>\n",
       "      <td>6.450622</td>\n",
       "    </tr>\n",
       "    <tr>\n",
       "      <th>1</th>\n",
       "      <td>Finland</td>\n",
       "      <td>2</td>\n",
       "      <td>2.99</td>\n",
       "      <td>0.500000</td>\n",
       "      <td>1.495000</td>\n",
       "    </tr>\n",
       "    <tr>\n",
       "      <th>2</th>\n",
       "      <td>Greece</td>\n",
       "      <td>5</td>\n",
       "      <td>NaN</td>\n",
       "      <td>NaN</td>\n",
       "      <td>NaN</td>\n",
       "    </tr>\n",
       "    <tr>\n",
       "      <th>3</th>\n",
       "      <td>India</td>\n",
       "      <td>155</td>\n",
       "      <td>NaN</td>\n",
       "      <td>NaN</td>\n",
       "      <td>NaN</td>\n",
       "    </tr>\n",
       "    <tr>\n",
       "      <th>4</th>\n",
       "      <td>United Kingdom</td>\n",
       "      <td>142</td>\n",
       "      <td>NaN</td>\n",
       "      <td>NaN</td>\n",
       "      <td>NaN</td>\n",
       "    </tr>\n",
       "  </tbody>\n",
       "</table>\n",
       "</div>"
      ],
      "text/plain": [
       "          country  country_count  revenue_per_country  transactions_session  \\\n",
       "0   United States           1287              8301.95              0.034188   \n",
       "1         Finland              2                 2.99              0.500000   \n",
       "2          Greece              5                  NaN                   NaN   \n",
       "3           India            155                  NaN                   NaN   \n",
       "4  United Kingdom            142                  NaN                   NaN   \n",
       "\n",
       "   transaction_revenue_per_visitor  \n",
       "0                         6.450622  \n",
       "1                         1.495000  \n",
       "2                              NaN  \n",
       "3                              NaN  \n",
       "4                              NaN  "
      ]
     },
     "execution_count": 33,
     "metadata": {},
     "output_type": "execute_result"
    }
   ],
   "source": [
    "%%bigquery\n",
    "# Ranking traffic sources by session count\n",
    "\n",
    "SELECT\n",
    "    geoNetwork.country,\n",
    "    COUNT(*) AS country_count,\n",
    "    SUM(totals.transactionRevenue)  / 1e6 AS revenue_per_country,\n",
    "    SUM(totals.transactions) / COUNT(*) AS transactions_session,\n",
    "    SUM(totals.transactionRevenue) / 1e6 / COUNT(*) AS transaction_revenue_per_visitor\n",
    "FROM `bigquery-public-data.google_analytics_sample.ga_sessions_20170801`\n",
    "GROUP BY geoNetwork.country\n",
    "ORDER BY transaction_revenue_per_visitor DESC\n",
    "LIMIT 5;"
   ]
  },
  {
   "cell_type": "markdown",
   "id": "33fa1c22",
   "metadata": {},
   "source": [
    "The results show that the United States is clearly the primary market (both in traffic and revenue). Users from Finland have very high conversion rates, so it's worth investigating as a market. Other countries have decent traffic (like India and UK) but currently not converting."
   ]
  },
  {
   "cell_type": "markdown",
   "id": "db6fafb0",
   "metadata": {},
   "source": [
    "### Bounce\n",
    "\n",
    "Bounce rate represents the percentage of visitors who enter the site and then leave (\"bounce\") rather than continuing to view other pages within the same site. It is calculated by counting the number of single page visits and dividing that by the total visits. It is then represented as a percentage of total visits."
   ]
  },
  {
   "cell_type": "code",
   "execution_count": 34,
   "id": "7070185d",
   "metadata": {},
   "outputs": [
    {
     "data": {
      "application/vnd.jupyter.widget-view+json": {
       "model_id": "a9d223a6a77c49398ee256b053e8148b",
       "version_major": 2,
       "version_minor": 0
      },
      "text/plain": [
       "Query is running:   0%|          |"
      ]
     },
     "metadata": {},
     "output_type": "display_data"
    },
    {
     "data": {
      "application/vnd.jupyter.widget-view+json": {
       "model_id": "f97f7b72d55046eaac8d830251e5cbcf",
       "version_major": 2,
       "version_minor": 0
      },
      "text/plain": [
       "Downloading:   0%|          |"
      ]
     },
     "metadata": {},
     "output_type": "display_data"
    },
    {
     "data": {
      "text/html": [
       "<div>\n",
       "<style scoped>\n",
       "    .dataframe tbody tr th:only-of-type {\n",
       "        vertical-align: middle;\n",
       "    }\n",
       "\n",
       "    .dataframe tbody tr th {\n",
       "        vertical-align: top;\n",
       "    }\n",
       "\n",
       "    .dataframe thead th {\n",
       "        text-align: right;\n",
       "    }\n",
       "</style>\n",
       "<table border=\"1\" class=\"dataframe\">\n",
       "  <thead>\n",
       "    <tr style=\"text-align: right;\">\n",
       "      <th></th>\n",
       "      <th>medium</th>\n",
       "      <th>session_count</th>\n",
       "      <th>total_bounce</th>\n",
       "      <th>bounce_ratio</th>\n",
       "    </tr>\n",
       "  </thead>\n",
       "  <tbody>\n",
       "    <tr>\n",
       "      <th>0</th>\n",
       "      <td>referral</td>\n",
       "      <td>313</td>\n",
       "      <td>211</td>\n",
       "      <td>67.4</td>\n",
       "    </tr>\n",
       "    <tr>\n",
       "      <th>1</th>\n",
       "      <td>organic</td>\n",
       "      <td>10</td>\n",
       "      <td>6</td>\n",
       "      <td>60.0</td>\n",
       "    </tr>\n",
       "    <tr>\n",
       "      <th>2</th>\n",
       "      <td>affiliate</td>\n",
       "      <td>52</td>\n",
       "      <td>30</td>\n",
       "      <td>57.7</td>\n",
       "    </tr>\n",
       "    <tr>\n",
       "      <th>3</th>\n",
       "      <td>(none)</td>\n",
       "      <td>2166</td>\n",
       "      <td>990</td>\n",
       "      <td>45.7</td>\n",
       "    </tr>\n",
       "    <tr>\n",
       "      <th>4</th>\n",
       "      <td>cpm</td>\n",
       "      <td>15</td>\n",
       "      <td>6</td>\n",
       "      <td>40.0</td>\n",
       "    </tr>\n",
       "  </tbody>\n",
       "</table>\n",
       "</div>"
      ],
      "text/plain": [
       "      medium  session_count  total_bounce  bounce_ratio\n",
       "0   referral            313           211          67.4\n",
       "1    organic             10             6          60.0\n",
       "2  affiliate             52            30          57.7\n",
       "3     (none)           2166           990          45.7\n",
       "4        cpm             15             6          40.0"
      ]
     },
     "execution_count": 34,
     "metadata": {},
     "output_type": "execute_result"
    }
   ],
   "source": [
    "%%bigquery\n",
    "--I'll use a Common Table Expression (CTE) to create a temporary result set for bounce data\n",
    "\n",
    "WITH bounce_table AS(\n",
    "    SELECT\n",
    "        trafficSource.medium,\n",
    "        CASE \n",
    "            WHEN totals.pageviews = 1 THEN 1\n",
    "            ELSE 0\n",
    "        -- Create a new column\n",
    "        END AS is_bounce\n",
    "    FROM `bigquery-public-data.google_analytics_sample.ga_sessions_20170801`\n",
    ")\n",
    "SELECT\n",
    "    medium,\n",
    "    COUNT(*) AS session_count,\n",
    "    SUM(is_bounce) AS total_bounce,\n",
    "    ROUND(SAFE_DIVIDE(SUM(is_bounce), COUNT(*)) * 100, 1) AS bounce_ratio\n",
    "FROM\n",
    "    bounce_table\n",
    "GROUP BY\n",
    "    medium\n",
    "ORDER BY \n",
    "    bounce_ratio DESC;\n"
   ]
  },
  {
   "cell_type": "markdown",
   "id": "878d7fbd",
   "metadata": {},
   "source": [
    "These results show that:\n",
    "- Referral traffic has the highest bounce rate (67.4%). These are users that find the site organically, such as links from other websites, mentions on social media etc. A possible cause might be that the landing page of the fictional e-commerce store does not meet user expectations.\n",
    "- Organic traffic bounce rate is also quite high (60%). This refers to all traffic that comes from a search engine and which was not sponsored (not an ad). The underlying cause might be bad SEO targeting or (amilar to before) poor first page experience.\n",
    "- Affiliate traffic is bouncing a lot too (57.7%). This traffic is generated by affiliates (i.e. other websites), which receive a commission for each visit or conversion (e.g. signup or sale) they generate for the target website.\n",
    "- The fact that direct traffic (\"none\") is also higher than expected (45.7%) makes it even more likely that the landing page needs improvement.\n",
    "So let's investigate the landing pages further:\n",
    "\n",
    "### Landing Page Bounce Analysis\n",
    "\n",
    "It would be useful to investigate which of the pages that users land on the website have high bounce rates, so that web design and UX improvements can be targeted to them:"
   ]
  },
  {
   "cell_type": "code",
   "execution_count": 35,
   "id": "0c4442fc",
   "metadata": {},
   "outputs": [
    {
     "data": {
      "application/vnd.jupyter.widget-view+json": {
       "model_id": "1b1a878b6f714e179e7ac367fc5f2ee7",
       "version_major": 2,
       "version_minor": 0
      },
      "text/plain": [
       "Query is running:   0%|          |"
      ]
     },
     "metadata": {},
     "output_type": "display_data"
    },
    {
     "data": {
      "application/vnd.jupyter.widget-view+json": {
       "model_id": "b01acfa7117b40519bf5b7adcb713281",
       "version_major": 2,
       "version_minor": 0
      },
      "text/plain": [
       "Downloading:   0%|          |"
      ]
     },
     "metadata": {},
     "output_type": "display_data"
    },
    {
     "data": {
      "text/html": [
       "<div>\n",
       "<style scoped>\n",
       "    .dataframe tbody tr th:only-of-type {\n",
       "        vertical-align: middle;\n",
       "    }\n",
       "\n",
       "    .dataframe tbody tr th {\n",
       "        vertical-align: top;\n",
       "    }\n",
       "\n",
       "    .dataframe thead th {\n",
       "        text-align: right;\n",
       "    }\n",
       "</style>\n",
       "<table border=\"1\" class=\"dataframe\">\n",
       "  <thead>\n",
       "    <tr style=\"text-align: right;\">\n",
       "      <th></th>\n",
       "      <th>landing_page</th>\n",
       "      <th>total_sessions</th>\n",
       "      <th>total_bounces</th>\n",
       "      <th>bounce_rate</th>\n",
       "    </tr>\n",
       "  </thead>\n",
       "  <tbody>\n",
       "    <tr>\n",
       "      <th>0</th>\n",
       "      <td>/google+redesign/electronics</td>\n",
       "      <td>20</td>\n",
       "      <td>14</td>\n",
       "      <td>70.0</td>\n",
       "    </tr>\n",
       "    <tr>\n",
       "      <th>1</th>\n",
       "      <td>/asearch.html</td>\n",
       "      <td>10</td>\n",
       "      <td>7</td>\n",
       "      <td>70.0</td>\n",
       "    </tr>\n",
       "    <tr>\n",
       "      <th>2</th>\n",
       "      <td>/google+redesign/drinkware</td>\n",
       "      <td>23</td>\n",
       "      <td>15</td>\n",
       "      <td>65.2</td>\n",
       "    </tr>\n",
       "    <tr>\n",
       "      <th>3</th>\n",
       "      <td>/google+redesign/shop+by+brand/youtube</td>\n",
       "      <td>588</td>\n",
       "      <td>363</td>\n",
       "      <td>61.7</td>\n",
       "    </tr>\n",
       "    <tr>\n",
       "      <th>4</th>\n",
       "      <td>/store.html</td>\n",
       "      <td>23</td>\n",
       "      <td>14</td>\n",
       "      <td>60.9</td>\n",
       "    </tr>\n",
       "    <tr>\n",
       "      <th>5</th>\n",
       "      <td>/google+redesign/lifestyle/fun/malibu+sunglass...</td>\n",
       "      <td>10</td>\n",
       "      <td>6</td>\n",
       "      <td>60.0</td>\n",
       "    </tr>\n",
       "    <tr>\n",
       "      <th>6</th>\n",
       "      <td>/google+redesign/bags/backpacks/home</td>\n",
       "      <td>14</td>\n",
       "      <td>8</td>\n",
       "      <td>57.1</td>\n",
       "    </tr>\n",
       "    <tr>\n",
       "      <th>7</th>\n",
       "      <td>/google+redesign/apparel/mens</td>\n",
       "      <td>11</td>\n",
       "      <td>6</td>\n",
       "      <td>54.5</td>\n",
       "    </tr>\n",
       "    <tr>\n",
       "      <th>8</th>\n",
       "      <td>/google+redesign/electronics/audio/google+g+no...</td>\n",
       "      <td>13</td>\n",
       "      <td>7</td>\n",
       "      <td>53.8</td>\n",
       "    </tr>\n",
       "    <tr>\n",
       "      <th>9</th>\n",
       "      <td>/google+redesign/accessories/stickers/home</td>\n",
       "      <td>23</td>\n",
       "      <td>12</td>\n",
       "      <td>52.2</td>\n",
       "    </tr>\n",
       "    <tr>\n",
       "      <th>10</th>\n",
       "      <td>/google+redesign/apparel/mens/mens+t+shirts</td>\n",
       "      <td>117</td>\n",
       "      <td>61</td>\n",
       "      <td>52.1</td>\n",
       "    </tr>\n",
       "    <tr>\n",
       "      <th>11</th>\n",
       "      <td>/google redesign/apparel/mens/mens t shirts</td>\n",
       "      <td>14</td>\n",
       "      <td>7</td>\n",
       "      <td>50.0</td>\n",
       "    </tr>\n",
       "    <tr>\n",
       "      <th>12</th>\n",
       "      <td>/google+redesign/apparel</td>\n",
       "      <td>27</td>\n",
       "      <td>13</td>\n",
       "      <td>48.1</td>\n",
       "    </tr>\n",
       "    <tr>\n",
       "      <th>13</th>\n",
       "      <td>/google+redesign/apparel/headgear</td>\n",
       "      <td>11</td>\n",
       "      <td>5</td>\n",
       "      <td>45.5</td>\n",
       "    </tr>\n",
       "    <tr>\n",
       "      <th>14</th>\n",
       "      <td>/home</td>\n",
       "      <td>1241</td>\n",
       "      <td>554</td>\n",
       "      <td>44.6</td>\n",
       "    </tr>\n",
       "    <tr>\n",
       "      <th>15</th>\n",
       "      <td>/google+redesign/bags</td>\n",
       "      <td>25</td>\n",
       "      <td>11</td>\n",
       "      <td>44.0</td>\n",
       "    </tr>\n",
       "    <tr>\n",
       "      <th>16</th>\n",
       "      <td>/google+redesign/apparel/mens/mens+outerwear</td>\n",
       "      <td>14</td>\n",
       "      <td>6</td>\n",
       "      <td>42.9</td>\n",
       "    </tr>\n",
       "    <tr>\n",
       "      <th>17</th>\n",
       "      <td>/google+redesign/apparel/womens/womens+t+shirts</td>\n",
       "      <td>13</td>\n",
       "      <td>5</td>\n",
       "      <td>38.5</td>\n",
       "    </tr>\n",
       "    <tr>\n",
       "      <th>18</th>\n",
       "      <td>/basket.html</td>\n",
       "      <td>35</td>\n",
       "      <td>10</td>\n",
       "      <td>28.6</td>\n",
       "    </tr>\n",
       "    <tr>\n",
       "      <th>19</th>\n",
       "      <td>/signin.html</td>\n",
       "      <td>78</td>\n",
       "      <td>18</td>\n",
       "      <td>23.1</td>\n",
       "    </tr>\n",
       "  </tbody>\n",
       "</table>\n",
       "</div>"
      ],
      "text/plain": [
       "                                         landing_page  total_sessions  \\\n",
       "0                        /google+redesign/electronics              20   \n",
       "1                                       /asearch.html              10   \n",
       "2                          /google+redesign/drinkware              23   \n",
       "3              /google+redesign/shop+by+brand/youtube             588   \n",
       "4                                         /store.html              23   \n",
       "5   /google+redesign/lifestyle/fun/malibu+sunglass...              10   \n",
       "6                /google+redesign/bags/backpacks/home              14   \n",
       "7                       /google+redesign/apparel/mens              11   \n",
       "8   /google+redesign/electronics/audio/google+g+no...              13   \n",
       "9          /google+redesign/accessories/stickers/home              23   \n",
       "10        /google+redesign/apparel/mens/mens+t+shirts             117   \n",
       "11        /google redesign/apparel/mens/mens t shirts              14   \n",
       "12                           /google+redesign/apparel              27   \n",
       "13                  /google+redesign/apparel/headgear              11   \n",
       "14                                              /home            1241   \n",
       "15                              /google+redesign/bags              25   \n",
       "16       /google+redesign/apparel/mens/mens+outerwear              14   \n",
       "17    /google+redesign/apparel/womens/womens+t+shirts              13   \n",
       "18                                       /basket.html              35   \n",
       "19                                       /signin.html              78   \n",
       "\n",
       "    total_bounces  bounce_rate  \n",
       "0              14         70.0  \n",
       "1               7         70.0  \n",
       "2              15         65.2  \n",
       "3             363         61.7  \n",
       "4              14         60.9  \n",
       "5               6         60.0  \n",
       "6               8         57.1  \n",
       "7               6         54.5  \n",
       "8               7         53.8  \n",
       "9              12         52.2  \n",
       "10             61         52.1  \n",
       "11              7         50.0  \n",
       "12             13         48.1  \n",
       "13              5         45.5  \n",
       "14            554         44.6  \n",
       "15             11         44.0  \n",
       "16              6         42.9  \n",
       "17              5         38.5  \n",
       "18             10         28.6  \n",
       "19             18         23.1  "
      ]
     },
     "execution_count": 35,
     "metadata": {},
     "output_type": "execute_result"
    }
   ],
   "source": [
    "%%bigquery\n",
    "\n",
    "WITH bounce_stats AS(\n",
    "SELECT\n",
    "  h.page.pagePath AS landing_page,\n",
    "  COUNT(DISTINCT visitId) AS total_sessions,\n",
    "  SUM(CASE WHEN totals.pageViews = 1 THEN 1 ELSE 0 END) AS total_bounces\n",
    "FROM\n",
    "  `bigquery-public-data.google_analytics_sample.ga_sessions_20170801`\n",
    "CROSS JOIN\n",
    "  UNNEST(hits) AS h\n",
    "WHERE\n",
    "  h.hitNumber = 1\n",
    "GROUP BY\n",
    "  landing_page\n",
    ")\n",
    "\n",
    "SELECT\n",
    "  *,\n",
    "  ROUND(SAFE_DIVIDE(total_bounces, total_sessions) * 100,1)  AS bounce_rate\n",
    "FROM\n",
    "  bounce_stats\n",
    "WHERE\n",
    "  total_sessions >= 10\n",
    "ORDER BY\n",
    "  bounce_rate DESC\n"
   ]
  },
  {
   "cell_type": "markdown",
   "id": "a150b2fe",
   "metadata": {},
   "source": [
    "- Page /google+redesign/shop+by+brand/youtube needs to be investigated as it has both high traffic and bounce rates \n",
    "- Pages like /google+redesign/electronics, /asearch.html, and /google+redesign/drinkware all have bounce rates above 65%. This may indicate that:\n",
    "    - They offer a poor landing page experience (irrelevant content, slow loading).\n",
    "    - Their content is not consistent with what the user expects being directed to them \n",
    "- Pages such as /basket.html (28.6%) and /signin.html (23.1%) have very low bounce rates, which makes sense because they are not part of the general user navigation but rather part of a specific goal of the user.\n",
    "\n",
    "### Session Duration / Time on Site\n",
    "\n",
    "It's interesting to investigate which pages engage the users most with:"
   ]
  },
  {
   "cell_type": "code",
   "execution_count": 36,
   "id": "ce914344",
   "metadata": {},
   "outputs": [
    {
     "data": {
      "application/vnd.jupyter.widget-view+json": {
       "model_id": "d08f9ee68d2d4ddab37b516111aee24a",
       "version_major": 2,
       "version_minor": 0
      },
      "text/plain": [
       "Query is running:   0%|          |"
      ]
     },
     "metadata": {},
     "output_type": "display_data"
    },
    {
     "data": {
      "application/vnd.jupyter.widget-view+json": {
       "model_id": "2ed9065fe2d141c5b99c687537b1f989",
       "version_major": 2,
       "version_minor": 0
      },
      "text/plain": [
       "Downloading:   0%|          |"
      ]
     },
     "metadata": {},
     "output_type": "display_data"
    },
    {
     "data": {
      "text/html": [
       "<div>\n",
       "<style scoped>\n",
       "    .dataframe tbody tr th:only-of-type {\n",
       "        vertical-align: middle;\n",
       "    }\n",
       "\n",
       "    .dataframe tbody tr th {\n",
       "        vertical-align: top;\n",
       "    }\n",
       "\n",
       "    .dataframe thead th {\n",
       "        text-align: right;\n",
       "    }\n",
       "</style>\n",
       "<table border=\"1\" class=\"dataframe\">\n",
       "  <thead>\n",
       "    <tr style=\"text-align: right;\">\n",
       "      <th></th>\n",
       "      <th>average_session_duration</th>\n",
       "    </tr>\n",
       "  </thead>\n",
       "  <tbody>\n",
       "    <tr>\n",
       "      <th>0</th>\n",
       "      <td>169.279599</td>\n",
       "    </tr>\n",
       "  </tbody>\n",
       "</table>\n",
       "</div>"
      ],
      "text/plain": [
       "   average_session_duration\n",
       "0                169.279599"
      ]
     },
     "execution_count": 36,
     "metadata": {},
     "output_type": "execute_result"
    }
   ],
   "source": [
    "%%bigquery\n",
    "WITH session_time AS(\n",
    "SELECT\n",
    "  visitId,\n",
    "  MIN(h.time) / 1000 AS session_start_time_seconds,\n",
    "  MAX(h.time) / 1000 AS session_end_time_seconds,\n",
    "  CASE \n",
    "    WHEN COUNT(h.time) = 1 THEN 0\n",
    "    ELSE (MAX(h.time) - MIN(h.time)) / 1000\n",
    "  END AS session_duration_seconds,\n",
    "FROM\n",
    "  `bigquery-public-data.google_analytics_sample.ga_sessions_20170801`\n",
    "CROSS JOIN\n",
    "  UNNEST(hits) AS h\n",
    "WHERE\n",
    "  -- Only real interactions\n",
    "  h.isInteraction IS TRUE  \n",
    "GROUP BY\n",
    "  visitId\n",
    "ORDER BY\n",
    "  session_duration_seconds DESC\n",
    ")\n",
    "\n",
    "SELECT\n",
    "  AVG(session_duration_seconds) AS average_session_duration\n",
    "FROM\n",
    "  session_time\n"
   ]
  },
  {
   "cell_type": "markdown",
   "id": "a15b44ec",
   "metadata": {},
   "source": [
    "### Session Duration by Channel/Device/Page"
   ]
  },
  {
   "cell_type": "code",
   "execution_count": null,
   "id": "64200d13",
   "metadata": {},
   "outputs": [
    {
     "data": {
      "application/vnd.jupyter.widget-view+json": {
       "model_id": "7192d513fde44aa8b7e179ab294c1248",
       "version_major": 2,
       "version_minor": 0
      },
      "text/plain": [
       "Query is running:   0%|          |"
      ]
     },
     "metadata": {},
     "output_type": "display_data"
    },
    {
     "data": {
      "application/vnd.jupyter.widget-view+json": {
       "model_id": "46a856533ae9430da37615b0f258e4e9",
       "version_major": 2,
       "version_minor": 0
      },
      "text/plain": [
       "Downloading:   0%|          |"
      ]
     },
     "metadata": {},
     "output_type": "display_data"
    },
    {
     "data": {
      "text/html": [
       "<div>\n",
       "<style scoped>\n",
       "    .dataframe tbody tr th:only-of-type {\n",
       "        vertical-align: middle;\n",
       "    }\n",
       "\n",
       "    .dataframe tbody tr th {\n",
       "        vertical-align: top;\n",
       "    }\n",
       "\n",
       "    .dataframe thead th {\n",
       "        text-align: right;\n",
       "    }\n",
       "</style>\n",
       "<table border=\"1\" class=\"dataframe\">\n",
       "  <thead>\n",
       "    <tr style=\"text-align: right;\">\n",
       "      <th></th>\n",
       "      <th>source</th>\n",
       "      <th>avg_session_duration</th>\n",
       "    </tr>\n",
       "  </thead>\n",
       "  <tbody>\n",
       "    <tr>\n",
       "      <th>0</th>\n",
       "      <td>mail.google.com</td>\n",
       "      <td>736.833500</td>\n",
       "    </tr>\n",
       "    <tr>\n",
       "      <th>1</th>\n",
       "      <td>dealspotr.com</td>\n",
       "      <td>656.197000</td>\n",
       "    </tr>\n",
       "    <tr>\n",
       "      <th>2</th>\n",
       "      <td>groups.google.com</td>\n",
       "      <td>306.040000</td>\n",
       "    </tr>\n",
       "    <tr>\n",
       "      <th>3</th>\n",
       "      <td>facebook.com</td>\n",
       "      <td>300.494429</td>\n",
       "    </tr>\n",
       "    <tr>\n",
       "      <th>4</th>\n",
       "      <td>m.facebook.com</td>\n",
       "      <td>282.543600</td>\n",
       "    </tr>\n",
       "    <tr>\n",
       "      <th>5</th>\n",
       "      <td>away.vk.com</td>\n",
       "      <td>223.079000</td>\n",
       "    </tr>\n",
       "    <tr>\n",
       "      <th>6</th>\n",
       "      <td>qiita.com</td>\n",
       "      <td>207.634000</td>\n",
       "    </tr>\n",
       "    <tr>\n",
       "      <th>7</th>\n",
       "      <td>bing</td>\n",
       "      <td>205.120000</td>\n",
       "    </tr>\n",
       "    <tr>\n",
       "      <th>8</th>\n",
       "      <td>(direct)</td>\n",
       "      <td>188.420978</td>\n",
       "    </tr>\n",
       "    <tr>\n",
       "      <th>9</th>\n",
       "      <td>dfa</td>\n",
       "      <td>157.198733</td>\n",
       "    </tr>\n",
       "    <tr>\n",
       "      <th>10</th>\n",
       "      <td>blog.golang.org</td>\n",
       "      <td>122.895667</td>\n",
       "    </tr>\n",
       "    <tr>\n",
       "      <th>11</th>\n",
       "      <td>google.com.tw</td>\n",
       "      <td>89.563000</td>\n",
       "    </tr>\n",
       "    <tr>\n",
       "      <th>12</th>\n",
       "      <td>Partners</td>\n",
       "      <td>83.586654</td>\n",
       "    </tr>\n",
       "    <tr>\n",
       "      <th>13</th>\n",
       "      <td>google.com</td>\n",
       "      <td>76.541250</td>\n",
       "    </tr>\n",
       "    <tr>\n",
       "      <th>14</th>\n",
       "      <td>analytics.google.com</td>\n",
       "      <td>70.378561</td>\n",
       "    </tr>\n",
       "    <tr>\n",
       "      <th>15</th>\n",
       "      <td>sites.google.com</td>\n",
       "      <td>59.438000</td>\n",
       "    </tr>\n",
       "    <tr>\n",
       "      <th>16</th>\n",
       "      <td>pinterest.com</td>\n",
       "      <td>52.603000</td>\n",
       "    </tr>\n",
       "    <tr>\n",
       "      <th>17</th>\n",
       "      <td>adwords.google.com</td>\n",
       "      <td>51.957500</td>\n",
       "    </tr>\n",
       "    <tr>\n",
       "      <th>18</th>\n",
       "      <td>yahoo</td>\n",
       "      <td>47.798000</td>\n",
       "    </tr>\n",
       "    <tr>\n",
       "      <th>19</th>\n",
       "      <td>docs.google.com</td>\n",
       "      <td>46.792000</td>\n",
       "    </tr>\n",
       "  </tbody>\n",
       "</table>\n",
       "</div>"
      ],
      "text/plain": [
       "                  source  avg_session_duration\n",
       "0        mail.google.com            736.833500\n",
       "1          dealspotr.com            656.197000\n",
       "2      groups.google.com            306.040000\n",
       "3           facebook.com            300.494429\n",
       "4         m.facebook.com            282.543600\n",
       "5            away.vk.com            223.079000\n",
       "6              qiita.com            207.634000\n",
       "7                   bing            205.120000\n",
       "8               (direct)            188.420978\n",
       "9                    dfa            157.198733\n",
       "10       blog.golang.org            122.895667\n",
       "11         google.com.tw             89.563000\n",
       "12              Partners             83.586654\n",
       "13            google.com             76.541250\n",
       "14  analytics.google.com             70.378561\n",
       "15      sites.google.com             59.438000\n",
       "16         pinterest.com             52.603000\n",
       "17    adwords.google.com             51.957500\n",
       "18                 yahoo             47.798000\n",
       "19       docs.google.com             46.792000"
      ]
     },
     "execution_count": 37,
     "metadata": {},
     "output_type": "execute_result"
    }
   ],
   "source": [
    "%%bigquery\n",
    "\n",
    "WITH session_time AS(\n",
    "SELECT\n",
    "  visitId,\n",
    "  MIN(h.time) / 1000 AS session_start_time_seconds,\n",
    "  MAX(h.time) / 1000 AS session_end_time_seconds,\n",
    "  CASE \n",
    "    WHEN COUNT(h.time) = 1 THEN 0\n",
    "    ELSE (MAX(h.time) - MIN(h.time)) / 1000\n",
    "  END AS session_duration_seconds,\n",
    "FROM\n",
    "  `bigquery-public-data.google_analytics_sample.ga_sessions_20170801`\n",
    "  -- Use cross join to explode an array into rows\n",
    "CROSS JOIN\n",
    "  UNNEST(hits) AS h\n",
    "WHERE\n",
    "  -- Only real interactions\n",
    "  h.isInteraction IS TRUE  \n",
    "GROUP BY\n",
    "  visitId\n",
    "ORDER BY\n",
    "  session_duration_seconds DESC\n",
    ")\n",
    "\n",
    "SELECT\n",
    "  trafficSource.source,\n",
    "  AVG(session_duration_seconds) AS avg_session_duration\n",
    "FROM\n",
    "  session_time\n",
    "JOIN\n",
    "  `bigquery-public-data.google_analytics_sample.ga_sessions_20170801` AS t\n",
    "ON\n",
    "  session_time.visitId = t.visitId\n",
    "GROUP BY\n",
    "  trafficSource.source\n",
    "ORDER BY\n",
    "  avg_session_duration DESC\n",
    "LIMIT 20;\n"
   ]
  },
  {
   "cell_type": "markdown",
   "id": "7d257e83",
   "metadata": {},
   "source": [
    "These results show that:\n",
    "\n",
    "- mail.google.com (736 seconds) and dealspotr.com (656 seconds) stand out with high average session durations - over 10 minutes and almost 11 minutes, respectively. This suggests very high user intent or strong link quality: users likely clicked through targeted or interesting content.\n",
    "- m.facebook.com (mobile Facebook) shows slightly lower session duration (282s) compared to desktop Facebook (300s). This is to be expected, as mobile users generally have shorter sessions due to different browsing habits.\n",
    "- bing (205s) and google.com (76s) show lower average session times compared to direct referral links. Organic searchers may be looking for quick answers rather than deep engagement.\n",
    "\n",
    "### Hits\n",
    "\n",
    "A hit in Google Analytics refers to any user interaction with your website that results in data being sent to the Analytics server, such as viewing a page or clicking a button.\n",
    "Below we'll calculate average page and event (e.g. clicks, video plays, downloads, etc.) hits per session (visit)."
   ]
  },
  {
   "cell_type": "code",
   "execution_count": 38,
   "id": "c397b9ed",
   "metadata": {},
   "outputs": [
    {
     "data": {
      "application/vnd.jupyter.widget-view+json": {
       "model_id": "6a47499d4a344ab9b57c772e7cdfdbf8",
       "version_major": 2,
       "version_minor": 0
      },
      "text/plain": [
       "Query is running:   0%|          |"
      ]
     },
     "metadata": {},
     "output_type": "display_data"
    },
    {
     "data": {
      "application/vnd.jupyter.widget-view+json": {
       "model_id": "b7dcbfd5f17748d7b2ddc8eec98a70d5",
       "version_major": 2,
       "version_minor": 0
      },
      "text/plain": [
       "Downloading:   0%|          |"
      ]
     },
     "metadata": {},
     "output_type": "display_data"
    },
    {
     "data": {
      "text/html": [
       "<div>\n",
       "<style scoped>\n",
       "    .dataframe tbody tr th:only-of-type {\n",
       "        vertical-align: middle;\n",
       "    }\n",
       "\n",
       "    .dataframe tbody tr th {\n",
       "        vertical-align: top;\n",
       "    }\n",
       "\n",
       "    .dataframe thead th {\n",
       "        text-align: right;\n",
       "    }\n",
       "</style>\n",
       "<table border=\"1\" class=\"dataframe\">\n",
       "  <thead>\n",
       "    <tr style=\"text-align: right;\">\n",
       "      <th></th>\n",
       "      <th>avg_page_hits_per_session</th>\n",
       "      <th>avg_event_hits_per_session</th>\n",
       "      <th>total_sessions</th>\n",
       "    </tr>\n",
       "  </thead>\n",
       "  <tbody>\n",
       "    <tr>\n",
       "      <th>0</th>\n",
       "      <td>4.36</td>\n",
       "      <td>0.91</td>\n",
       "      <td>2509</td>\n",
       "    </tr>\n",
       "  </tbody>\n",
       "</table>\n",
       "</div>"
      ],
      "text/plain": [
       "   avg_page_hits_per_session  avg_event_hits_per_session  total_sessions\n",
       "0                       4.36                        0.91            2509"
      ]
     },
     "execution_count": 38,
     "metadata": {},
     "output_type": "execute_result"
    }
   ],
   "source": [
    "%%bigquery\n",
    "-- Let's calculate average page and event hits per session\n",
    "\n",
    "WITH hit_table AS(\n",
    "    SELECT\n",
    "        visitId,\n",
    "        SUM(CASE WHEN h.type = 'PAGE' THEN 1 ELSE 0 END) AS page_hits,\n",
    "        SUM(CASE WHEN h.type = 'EVENT' THEN 1 ELSE 0 END) AS event_hits,\n",
    "    FROM `bigquery-public-data.google_analytics_sample.ga_sessions_20170801`,\n",
    "    UNNEST(hits) AS h\n",
    "    GROUP BY visitId\n",
    ")\n",
    "\n",
    "SELECT\n",
    "    ROUND(AVG(page_hits), 2) AS avg_page_hits_per_session,\n",
    "    ROUND(AVG(event_hits), 2) AS avg_event_hits_per_session,\n",
    "    COUNT(*) AS total_sessions\n",
    "FROM\n",
    "    hit_table;\n"
   ]
  },
  {
   "cell_type": "markdown",
   "id": "48a9c095",
   "metadata": {},
   "source": [
    "From these results we conclude that:\n",
    "- We have 4.36 pageviews per session, which is considered normal to good in web analytics. Sites often aim for 3-5 pages per session depending on their goals.\n",
    "- There is user interaction, as 0.91 events per session means almost every session triggers an event (clicks, video plays, etc.). Therefore visitors are not being passive."
   ]
  },
  {
   "cell_type": "markdown",
   "id": "88575566",
   "metadata": {},
   "source": [
    "### How are hit events related to transactions and revenue?\n",
    "\n",
    "I'll start by examining whether clicking events are related to conversion, by calculating:\n",
    "- Overall average events per session\n",
    "- Average events per session where conversion took place\n",
    "- Total conversion rate\n",
    "- Average revenue per session"
   ]
  },
  {
   "cell_type": "code",
   "execution_count": 39,
   "id": "43aa3557",
   "metadata": {},
   "outputs": [
    {
     "data": {
      "application/vnd.jupyter.widget-view+json": {
       "model_id": "8916144b50b24da5a6848dc00c296327",
       "version_major": 2,
       "version_minor": 0
      },
      "text/plain": [
       "Query is running:   0%|          |"
      ]
     },
     "metadata": {},
     "output_type": "display_data"
    },
    {
     "data": {
      "application/vnd.jupyter.widget-view+json": {
       "model_id": "18baac62a28242cca2671c0b48d8df8f",
       "version_major": 2,
       "version_minor": 0
      },
      "text/plain": [
       "Downloading:   0%|          |"
      ]
     },
     "metadata": {},
     "output_type": "display_data"
    },
    {
     "data": {
      "text/html": [
       "<div>\n",
       "<style scoped>\n",
       "    .dataframe tbody tr th:only-of-type {\n",
       "        vertical-align: middle;\n",
       "    }\n",
       "\n",
       "    .dataframe tbody tr th {\n",
       "        vertical-align: top;\n",
       "    }\n",
       "\n",
       "    .dataframe thead th {\n",
       "        text-align: right;\n",
       "    }\n",
       "</style>\n",
       "<table border=\"1\" class=\"dataframe\">\n",
       "  <thead>\n",
       "    <tr style=\"text-align: right;\">\n",
       "      <th></th>\n",
       "      <th>avg_events_per_session</th>\n",
       "      <th>avg_events_in_converting_sessions</th>\n",
       "      <th>conversion_rate</th>\n",
       "      <th>avg_revenue_per_session</th>\n",
       "    </tr>\n",
       "  </thead>\n",
       "  <tbody>\n",
       "    <tr>\n",
       "      <th>0</th>\n",
       "      <td>0.9</td>\n",
       "      <td>10.37</td>\n",
       "      <td>0.0176</td>\n",
       "      <td>3.25</td>\n",
       "    </tr>\n",
       "  </tbody>\n",
       "</table>\n",
       "</div>"
      ],
      "text/plain": [
       "   avg_events_per_session  avg_events_in_converting_sessions  conversion_rate  \\\n",
       "0                     0.9                              10.37           0.0176   \n",
       "\n",
       "   avg_revenue_per_session  \n",
       "0                     3.25  "
      ]
     },
     "execution_count": 39,
     "metadata": {},
     "output_type": "execute_result"
    }
   ],
   "source": [
    "%%bigquery\n",
    "\n",
    "WITH session_summary AS (\n",
    "    SELECT\n",
    "        fullVisitorId,\n",
    "        visitId,\n",
    "        SUM(CASE WHEN h.type = 'EVENT' THEN 1 ELSE 0 END) AS event_count,\n",
    "        IFNULL(totals.transactions, 0) AS transactions,\n",
    "        IFNULL(totals.transactionRevenue, 0) / 1e6 AS transaction_revenue -- GA stores revenue in micros (divide by 1M)\n",
    "    FROM `bigquery-public-data.google_analytics_sample.ga_sessions_20170801`,\n",
    "    UNNEST(hits) AS h\n",
    "    GROUP BY fullVisitorId, visitId, totals.transactions, totals.transactionRevenue\n",
    ")\n",
    "\n",
    "SELECT\n",
    "    ROUND(AVG(event_count), 2) AS avg_events_per_session,\n",
    "    ROUND(AVG(CASE WHEN transactions > 0 THEN event_count ELSE NULL END), 2) AS avg_events_in_converting_sessions,\n",
    "    ROUND(SUM(transactions) / COUNT(*), 4) AS conversion_rate,\n",
    "    ROUND(SUM(transaction_revenue) / COUNT(*), 2) AS avg_revenue_per_session\n",
    "FROM\n",
    "    session_summary;\n"
   ]
  },
  {
   "cell_type": "markdown",
   "id": "b69ced78",
   "metadata": {},
   "source": [
    "- These results show that there is a big difference in engagement: The typical session has about 1 event, but events with a transaction (converting sessions) have over 10 events on average! In other words, more engaged sessions (users who trigger many events) are far more likely to convert.\n",
    "- **Healthy Conversion Rate:** 1.76% is generally acceptable for ecommerce or lead generation websites, as industry benchmarks often range 1%–3%.\n",
    "- Average revenue per session: 3.25 USD per session should be evaluated based on the products sold. As this ecommerce site sells hoodies etc. (priced around 30-40 USD), we can consider this average as acceptable.\n",
    "\n",
    "### Event breakdown\n",
    "\n",
    "In Google Analytics data (in this case GA3, which the sample dataset is from), event data is hierarchically organized as follows:\n",
    "- Event Category (broad category) \n",
    "- Event Action (what the user did inside the category)\n",
    "- Event Label (additional description detail) \n",
    "\n",
    "So I'll start by exploring the hit types, grouping them in that order, counting the number of times they occured and displaying the conversion event ratios:"
   ]
  },
  {
   "cell_type": "code",
   "execution_count": 40,
   "id": "b63c52c9",
   "metadata": {},
   "outputs": [
    {
     "data": {
      "application/vnd.jupyter.widget-view+json": {
       "model_id": "052cefbc34b64e8995d15ea2963a79fa",
       "version_major": 2,
       "version_minor": 0
      },
      "text/plain": [
       "Query is running:   0%|          |"
      ]
     },
     "metadata": {},
     "output_type": "display_data"
    },
    {
     "data": {
      "application/vnd.jupyter.widget-view+json": {
       "model_id": "3e2446f58a1c497186c4de6fc2cf63e2",
       "version_major": 2,
       "version_minor": 0
      },
      "text/plain": [
       "Downloading:   0%|          |"
      ]
     },
     "metadata": {},
     "output_type": "display_data"
    },
    {
     "data": {
      "text/html": [
       "<div>\n",
       "<style scoped>\n",
       "    .dataframe tbody tr th:only-of-type {\n",
       "        vertical-align: middle;\n",
       "    }\n",
       "\n",
       "    .dataframe tbody tr th {\n",
       "        vertical-align: top;\n",
       "    }\n",
       "\n",
       "    .dataframe thead th {\n",
       "        text-align: right;\n",
       "    }\n",
       "</style>\n",
       "<table border=\"1\" class=\"dataframe\">\n",
       "  <thead>\n",
       "    <tr style=\"text-align: right;\">\n",
       "      <th></th>\n",
       "      <th>event_category</th>\n",
       "      <th>event_action</th>\n",
       "      <th>event_label</th>\n",
       "      <th>total_event_occurrences</th>\n",
       "      <th>event_in_converting_sessions</th>\n",
       "      <th>conversion_event_ratio</th>\n",
       "    </tr>\n",
       "  </thead>\n",
       "  <tbody>\n",
       "    <tr>\n",
       "      <th>0</th>\n",
       "      <td>Enhanced Ecommerce</td>\n",
       "      <td>Add to Cart</td>\n",
       "      <td>None</td>\n",
       "      <td>494</td>\n",
       "      <td>175</td>\n",
       "      <td>35.4</td>\n",
       "    </tr>\n",
       "    <tr>\n",
       "      <th>1</th>\n",
       "      <td>Enhanced Ecommerce</td>\n",
       "      <td>Product Click</td>\n",
       "      <td>None</td>\n",
       "      <td>411</td>\n",
       "      <td>64</td>\n",
       "      <td>15.6</td>\n",
       "    </tr>\n",
       "    <tr>\n",
       "      <th>2</th>\n",
       "      <td>Enhanced Ecommerce</td>\n",
       "      <td>Remove from Cart</td>\n",
       "      <td>None</td>\n",
       "      <td>75</td>\n",
       "      <td>22</td>\n",
       "      <td>29.3</td>\n",
       "    </tr>\n",
       "    <tr>\n",
       "      <th>3</th>\n",
       "      <td>Enhanced Ecommerce</td>\n",
       "      <td>Quickview Click</td>\n",
       "      <td>Google Infant Short Sleeve Tee Green</td>\n",
       "      <td>10</td>\n",
       "      <td>10</td>\n",
       "      <td>100.0</td>\n",
       "    </tr>\n",
       "    <tr>\n",
       "      <th>4</th>\n",
       "      <td>Enhanced Ecommerce</td>\n",
       "      <td>Quickview Click</td>\n",
       "      <td>Google Men's Zip Hoodie</td>\n",
       "      <td>18</td>\n",
       "      <td>9</td>\n",
       "      <td>50.0</td>\n",
       "    </tr>\n",
       "    <tr>\n",
       "      <th>5</th>\n",
       "      <td>Enhanced Ecommerce</td>\n",
       "      <td>Quickview Click</td>\n",
       "      <td>Google Canvas Tote Natural/Navy</td>\n",
       "      <td>17</td>\n",
       "      <td>7</td>\n",
       "      <td>41.2</td>\n",
       "    </tr>\n",
       "    <tr>\n",
       "      <th>6</th>\n",
       "      <td>Enhanced Ecommerce</td>\n",
       "      <td>Quickview Click</td>\n",
       "      <td>Google Men's 100% Cotton Short Sleeve Hero Tee...</td>\n",
       "      <td>38</td>\n",
       "      <td>7</td>\n",
       "      <td>18.4</td>\n",
       "    </tr>\n",
       "    <tr>\n",
       "      <th>7</th>\n",
       "      <td>Enhanced Ecommerce</td>\n",
       "      <td>Quickview Click</td>\n",
       "      <td>Google Women's Performance Full Zip Jacket Black</td>\n",
       "      <td>13</td>\n",
       "      <td>6</td>\n",
       "      <td>46.2</td>\n",
       "    </tr>\n",
       "    <tr>\n",
       "      <th>8</th>\n",
       "      <td>Enhanced Ecommerce</td>\n",
       "      <td>Quickview Click</td>\n",
       "      <td>Google Youth Baseball Raglan Heather/Black</td>\n",
       "      <td>7</td>\n",
       "      <td>5</td>\n",
       "      <td>71.4</td>\n",
       "    </tr>\n",
       "    <tr>\n",
       "      <th>9</th>\n",
       "      <td>Enhanced Ecommerce</td>\n",
       "      <td>Quickview Click</td>\n",
       "      <td>Google Tote Bag</td>\n",
       "      <td>9</td>\n",
       "      <td>5</td>\n",
       "      <td>55.6</td>\n",
       "    </tr>\n",
       "    <tr>\n",
       "      <th>10</th>\n",
       "      <td>Enhanced Ecommerce</td>\n",
       "      <td>Quickview Click</td>\n",
       "      <td>Google Blackout Cap</td>\n",
       "      <td>14</td>\n",
       "      <td>4</td>\n",
       "      <td>28.6</td>\n",
       "    </tr>\n",
       "    <tr>\n",
       "      <th>11</th>\n",
       "      <td>Enhanced Ecommerce</td>\n",
       "      <td>Quickview Click</td>\n",
       "      <td>Google Tri-blend Hoodie Grey</td>\n",
       "      <td>6</td>\n",
       "      <td>4</td>\n",
       "      <td>66.7</td>\n",
       "    </tr>\n",
       "    <tr>\n",
       "      <th>12</th>\n",
       "      <td>Enhanced Ecommerce</td>\n",
       "      <td>Quickview Click</td>\n",
       "      <td>26 oz Double Wall Insulated Bottle</td>\n",
       "      <td>21</td>\n",
       "      <td>4</td>\n",
       "      <td>19.0</td>\n",
       "    </tr>\n",
       "    <tr>\n",
       "      <th>13</th>\n",
       "      <td>Enhanced Ecommerce</td>\n",
       "      <td>Quickview Click</td>\n",
       "      <td>Google Infant Short Sleeve Tee Royal Blue</td>\n",
       "      <td>4</td>\n",
       "      <td>4</td>\n",
       "      <td>100.0</td>\n",
       "    </tr>\n",
       "    <tr>\n",
       "      <th>14</th>\n",
       "      <td>Enhanced Ecommerce</td>\n",
       "      <td>Quickview Click</td>\n",
       "      <td>Sport Bag</td>\n",
       "      <td>10</td>\n",
       "      <td>4</td>\n",
       "      <td>40.0</td>\n",
       "    </tr>\n",
       "    <tr>\n",
       "      <th>15</th>\n",
       "      <td>Enhanced Ecommerce</td>\n",
       "      <td>Quickview Click</td>\n",
       "      <td>Google Leather Perforated Journal</td>\n",
       "      <td>8</td>\n",
       "      <td>4</td>\n",
       "      <td>50.0</td>\n",
       "    </tr>\n",
       "    <tr>\n",
       "      <th>16</th>\n",
       "      <td>Enhanced Ecommerce</td>\n",
       "      <td>Quickview Click</td>\n",
       "      <td>Google Toddler Short Sleeve Tee White</td>\n",
       "      <td>7</td>\n",
       "      <td>3</td>\n",
       "      <td>42.9</td>\n",
       "    </tr>\n",
       "    <tr>\n",
       "      <th>17</th>\n",
       "      <td>Enhanced Ecommerce</td>\n",
       "      <td>Quickview Click</td>\n",
       "      <td>Micro Wireless Earbud</td>\n",
       "      <td>16</td>\n",
       "      <td>3</td>\n",
       "      <td>18.8</td>\n",
       "    </tr>\n",
       "    <tr>\n",
       "      <th>18</th>\n",
       "      <td>Enhanced Ecommerce</td>\n",
       "      <td>Quickview Click</td>\n",
       "      <td>Google High Capacity 10,400mAh Charger</td>\n",
       "      <td>4</td>\n",
       "      <td>3</td>\n",
       "      <td>75.0</td>\n",
       "    </tr>\n",
       "    <tr>\n",
       "      <th>19</th>\n",
       "      <td>Enhanced Ecommerce</td>\n",
       "      <td>Quickview Click</td>\n",
       "      <td>Collapsible Shopping Bag</td>\n",
       "      <td>6</td>\n",
       "      <td>3</td>\n",
       "      <td>50.0</td>\n",
       "    </tr>\n",
       "    <tr>\n",
       "      <th>20</th>\n",
       "      <td>Enhanced Ecommerce</td>\n",
       "      <td>Quickview Click</td>\n",
       "      <td>Android Infant Short Sleeve Tee Pewter</td>\n",
       "      <td>4</td>\n",
       "      <td>3</td>\n",
       "      <td>75.0</td>\n",
       "    </tr>\n",
       "    <tr>\n",
       "      <th>21</th>\n",
       "      <td>Enhanced Ecommerce</td>\n",
       "      <td>Quickview Click</td>\n",
       "      <td>Plastic Sliding Flashlight</td>\n",
       "      <td>6</td>\n",
       "      <td>3</td>\n",
       "      <td>50.0</td>\n",
       "    </tr>\n",
       "    <tr>\n",
       "      <th>22</th>\n",
       "      <td>Enhanced Ecommerce</td>\n",
       "      <td>Quickview Click</td>\n",
       "      <td>Google Spiral Journal with Pen</td>\n",
       "      <td>5</td>\n",
       "      <td>3</td>\n",
       "      <td>60.0</td>\n",
       "    </tr>\n",
       "    <tr>\n",
       "      <th>23</th>\n",
       "      <td>Enhanced Ecommerce</td>\n",
       "      <td>Quickview Click</td>\n",
       "      <td>Google Slim Utility Travel Bag</td>\n",
       "      <td>8</td>\n",
       "      <td>3</td>\n",
       "      <td>37.5</td>\n",
       "    </tr>\n",
       "    <tr>\n",
       "      <th>24</th>\n",
       "      <td>Enhanced Ecommerce</td>\n",
       "      <td>Quickview Click</td>\n",
       "      <td>Google RFID Journal</td>\n",
       "      <td>12</td>\n",
       "      <td>3</td>\n",
       "      <td>25.0</td>\n",
       "    </tr>\n",
       "    <tr>\n",
       "      <th>25</th>\n",
       "      <td>Enhanced Ecommerce</td>\n",
       "      <td>Quickview Click</td>\n",
       "      <td>Google Rucksack</td>\n",
       "      <td>32</td>\n",
       "      <td>3</td>\n",
       "      <td>9.4</td>\n",
       "    </tr>\n",
       "    <tr>\n",
       "      <th>26</th>\n",
       "      <td>Enhanced Ecommerce</td>\n",
       "      <td>Quickview Click</td>\n",
       "      <td>Google Women's Vintage Hero Tee White</td>\n",
       "      <td>3</td>\n",
       "      <td>3</td>\n",
       "      <td>100.0</td>\n",
       "    </tr>\n",
       "    <tr>\n",
       "      <th>27</th>\n",
       "      <td>Enhanced Ecommerce</td>\n",
       "      <td>Quickview Click</td>\n",
       "      <td>Google Bib White</td>\n",
       "      <td>8</td>\n",
       "      <td>3</td>\n",
       "      <td>37.5</td>\n",
       "    </tr>\n",
       "    <tr>\n",
       "      <th>28</th>\n",
       "      <td>Enhanced Ecommerce</td>\n",
       "      <td>Quickview Click</td>\n",
       "      <td>Google Sunglasses</td>\n",
       "      <td>23</td>\n",
       "      <td>3</td>\n",
       "      <td>13.0</td>\n",
       "    </tr>\n",
       "    <tr>\n",
       "      <th>29</th>\n",
       "      <td>Enhanced Ecommerce</td>\n",
       "      <td>Quickview Click</td>\n",
       "      <td>Android Men's Take Charge Short Sleeve Tee Purple</td>\n",
       "      <td>3</td>\n",
       "      <td>2</td>\n",
       "      <td>66.7</td>\n",
       "    </tr>\n",
       "  </tbody>\n",
       "</table>\n",
       "</div>"
      ],
      "text/plain": [
       "        event_category      event_action  \\\n",
       "0   Enhanced Ecommerce       Add to Cart   \n",
       "1   Enhanced Ecommerce     Product Click   \n",
       "2   Enhanced Ecommerce  Remove from Cart   \n",
       "3   Enhanced Ecommerce   Quickview Click   \n",
       "4   Enhanced Ecommerce   Quickview Click   \n",
       "5   Enhanced Ecommerce   Quickview Click   \n",
       "6   Enhanced Ecommerce   Quickview Click   \n",
       "7   Enhanced Ecommerce   Quickview Click   \n",
       "8   Enhanced Ecommerce   Quickview Click   \n",
       "9   Enhanced Ecommerce   Quickview Click   \n",
       "10  Enhanced Ecommerce   Quickview Click   \n",
       "11  Enhanced Ecommerce   Quickview Click   \n",
       "12  Enhanced Ecommerce   Quickview Click   \n",
       "13  Enhanced Ecommerce   Quickview Click   \n",
       "14  Enhanced Ecommerce   Quickview Click   \n",
       "15  Enhanced Ecommerce   Quickview Click   \n",
       "16  Enhanced Ecommerce   Quickview Click   \n",
       "17  Enhanced Ecommerce   Quickview Click   \n",
       "18  Enhanced Ecommerce   Quickview Click   \n",
       "19  Enhanced Ecommerce   Quickview Click   \n",
       "20  Enhanced Ecommerce   Quickview Click   \n",
       "21  Enhanced Ecommerce   Quickview Click   \n",
       "22  Enhanced Ecommerce   Quickview Click   \n",
       "23  Enhanced Ecommerce   Quickview Click   \n",
       "24  Enhanced Ecommerce   Quickview Click   \n",
       "25  Enhanced Ecommerce   Quickview Click   \n",
       "26  Enhanced Ecommerce   Quickview Click   \n",
       "27  Enhanced Ecommerce   Quickview Click   \n",
       "28  Enhanced Ecommerce   Quickview Click   \n",
       "29  Enhanced Ecommerce   Quickview Click   \n",
       "\n",
       "                                          event_label  \\\n",
       "0                                                None   \n",
       "1                                                None   \n",
       "2                                                None   \n",
       "3                Google Infant Short Sleeve Tee Green   \n",
       "4                             Google Men's Zip Hoodie   \n",
       "5                     Google Canvas Tote Natural/Navy   \n",
       "6   Google Men's 100% Cotton Short Sleeve Hero Tee...   \n",
       "7    Google Women's Performance Full Zip Jacket Black   \n",
       "8          Google Youth Baseball Raglan Heather/Black   \n",
       "9                                     Google Tote Bag   \n",
       "10                                Google Blackout Cap   \n",
       "11                       Google Tri-blend Hoodie Grey   \n",
       "12                 26 oz Double Wall Insulated Bottle   \n",
       "13          Google Infant Short Sleeve Tee Royal Blue   \n",
       "14                                          Sport Bag   \n",
       "15                  Google Leather Perforated Journal   \n",
       "16              Google Toddler Short Sleeve Tee White   \n",
       "17                              Micro Wireless Earbud   \n",
       "18             Google High Capacity 10,400mAh Charger   \n",
       "19                           Collapsible Shopping Bag   \n",
       "20             Android Infant Short Sleeve Tee Pewter   \n",
       "21                         Plastic Sliding Flashlight   \n",
       "22                     Google Spiral Journal with Pen   \n",
       "23                     Google Slim Utility Travel Bag   \n",
       "24                                Google RFID Journal   \n",
       "25                                    Google Rucksack   \n",
       "26              Google Women's Vintage Hero Tee White   \n",
       "27                                   Google Bib White   \n",
       "28                                  Google Sunglasses   \n",
       "29  Android Men's Take Charge Short Sleeve Tee Purple   \n",
       "\n",
       "    total_event_occurrences  event_in_converting_sessions  \\\n",
       "0                       494                           175   \n",
       "1                       411                            64   \n",
       "2                        75                            22   \n",
       "3                        10                            10   \n",
       "4                        18                             9   \n",
       "5                        17                             7   \n",
       "6                        38                             7   \n",
       "7                        13                             6   \n",
       "8                         7                             5   \n",
       "9                         9                             5   \n",
       "10                       14                             4   \n",
       "11                        6                             4   \n",
       "12                       21                             4   \n",
       "13                        4                             4   \n",
       "14                       10                             4   \n",
       "15                        8                             4   \n",
       "16                        7                             3   \n",
       "17                       16                             3   \n",
       "18                        4                             3   \n",
       "19                        6                             3   \n",
       "20                        4                             3   \n",
       "21                        6                             3   \n",
       "22                        5                             3   \n",
       "23                        8                             3   \n",
       "24                       12                             3   \n",
       "25                       32                             3   \n",
       "26                        3                             3   \n",
       "27                        8                             3   \n",
       "28                       23                             3   \n",
       "29                        3                             2   \n",
       "\n",
       "    conversion_event_ratio  \n",
       "0                     35.4  \n",
       "1                     15.6  \n",
       "2                     29.3  \n",
       "3                    100.0  \n",
       "4                     50.0  \n",
       "5                     41.2  \n",
       "6                     18.4  \n",
       "7                     46.2  \n",
       "8                     71.4  \n",
       "9                     55.6  \n",
       "10                    28.6  \n",
       "11                    66.7  \n",
       "12                    19.0  \n",
       "13                   100.0  \n",
       "14                    40.0  \n",
       "15                    50.0  \n",
       "16                    42.9  \n",
       "17                    18.8  \n",
       "18                    75.0  \n",
       "19                    50.0  \n",
       "20                    75.0  \n",
       "21                    50.0  \n",
       "22                    60.0  \n",
       "23                    37.5  \n",
       "24                    25.0  \n",
       "25                     9.4  \n",
       "26                   100.0  \n",
       "27                    37.5  \n",
       "28                    13.0  \n",
       "29                    66.7  "
      ]
     },
     "execution_count": 40,
     "metadata": {},
     "output_type": "execute_result"
    }
   ],
   "source": [
    "%%bigquery\n",
    "\n",
    "WITH event_data AS (\n",
    "    SELECT\n",
    "        h.eventInfo.eventCategory AS event_category,\n",
    "        h.eventInfo.eventAction AS event_action,\n",
    "        h.eventInfo.eventLabel AS event_label,\n",
    "        IFNULL(totals.transactions, 0) AS transactions\n",
    "    FROM\n",
    "        `bigquery-public-data.google_analytics_sample.ga_sessions_20170801`,\n",
    "        UNNEST(hits) AS h\n",
    "    WHERE\n",
    "        h.type = 'EVENT'\n",
    ")\n",
    "\n",
    "SELECT\n",
    "    event_category,\n",
    "    event_action,\n",
    "    event_label,\n",
    "    COUNT(*) AS total_event_occurrences,\n",
    "    -- Mark the sessions that had transactions\n",
    "    SUM(CASE WHEN transactions > 0 THEN 1 ELSE 0 END) AS event_in_converting_sessions,\n",
    "    -- Give the ratio of the events that had transactions to the total event occurences\n",
    "    ROUND(SAFE_DIVIDE(SUM(CASE WHEN transactions > 0 THEN 1 ELSE 0 END), COUNT(*)) * 100, 1) AS conversion_event_ratio \n",
    "FROM\n",
    "    event_data\n",
    "GROUP BY\n",
    "    event_category, event_action, event_label\n",
    "ORDER BY\n",
    "    event_in_converting_sessions DESC\n",
    "LIMIT 30;\n"
   ]
  },
  {
   "cell_type": "markdown",
   "id": "da2e6baf",
   "metadata": {},
   "source": [
    "From the above table we can draw that:\n",
    "- Users who added to cart were much more likely to convert (which makes sense), as they have a 35.4% conversion ratio.\n",
    "- \"Quickview Click\" events (on individual products) have high conversion ratios (some range between 50–100%).\n",
    "\n",
    "### Funnel exploration\n",
    "\n",
    "Funnel exploration lets us understand the steps users of a website take to complete a task, in this case conversion (a transaction) and evaluate how many users drop off between each step.\n",
    "For this purpose, I'll examine the chained sequence of the following:\n",
    "- Product click or Quickview click (There is no guaranteed sequence between Product click and Quickview click, so in reality this would depend on the functionality of the website)\n",
    "- Add to Cart\n",
    "- Transaction"
   ]
  },
  {
   "cell_type": "code",
   "execution_count": 41,
   "id": "3ae4748a",
   "metadata": {},
   "outputs": [
    {
     "data": {
      "application/vnd.jupyter.widget-view+json": {
       "model_id": "2cc3ff4a3a0b4388b8e20c9488f75930",
       "version_major": 2,
       "version_minor": 0
      },
      "text/plain": [
       "Query is running:   0%|          |"
      ]
     },
     "metadata": {},
     "output_type": "display_data"
    },
    {
     "data": {
      "application/vnd.jupyter.widget-view+json": {
       "model_id": "d0cc532fc0194c8ea6bfe7c0b80a7811",
       "version_major": 2,
       "version_minor": 0
      },
      "text/plain": [
       "Downloading:   0%|          |"
      ]
     },
     "metadata": {},
     "output_type": "display_data"
    },
    {
     "data": {
      "text/html": [
       "<div>\n",
       "<style scoped>\n",
       "    .dataframe tbody tr th:only-of-type {\n",
       "        vertical-align: middle;\n",
       "    }\n",
       "\n",
       "    .dataframe tbody tr th {\n",
       "        vertical-align: top;\n",
       "    }\n",
       "\n",
       "    .dataframe thead th {\n",
       "        text-align: right;\n",
       "    }\n",
       "</style>\n",
       "<table border=\"1\" class=\"dataframe\">\n",
       "  <thead>\n",
       "    <tr style=\"text-align: right;\">\n",
       "      <th></th>\n",
       "      <th>total_visits</th>\n",
       "      <th>product_or_quickview_session</th>\n",
       "      <th>product_or_quickview_and_cart_session</th>\n",
       "      <th>product_or_quickview_cart_transaction_session</th>\n",
       "    </tr>\n",
       "  </thead>\n",
       "  <tbody>\n",
       "    <tr>\n",
       "      <th>0</th>\n",
       "      <td>480</td>\n",
       "      <td>430</td>\n",
       "      <td>152</td>\n",
       "      <td>30</td>\n",
       "    </tr>\n",
       "  </tbody>\n",
       "</table>\n",
       "</div>"
      ],
      "text/plain": [
       "   total_visits  product_or_quickview_session  \\\n",
       "0           480                           430   \n",
       "\n",
       "   product_or_quickview_and_cart_session  \\\n",
       "0                                    152   \n",
       "\n",
       "   product_or_quickview_cart_transaction_session  \n",
       "0                                             30  "
      ]
     },
     "execution_count": 41,
     "metadata": {},
     "output_type": "execute_result"
    }
   ],
   "source": [
    "%%bigquery\n",
    "\n",
    "WITH funnel_data AS (\n",
    "    SELECT\n",
    "        visitId,\n",
    "        -- If at least 1 of the following events has taken place, assign the value 1\n",
    "        MAX(CASE WHEN h.eventInfo.eventAction = 'Product Click' THEN 1 ELSE 0 END) AS product_click_count,\n",
    "        MAX(CASE WHEN h.eventInfo.eventAction = 'Quickview Click' THEN 1 ELSE 0 END) AS quickview_click_count,\n",
    "        MAX(CASE WHEN h.eventInfo.eventAction = 'Add to Cart' THEN 1 ELSE 0 END) AS add_to_cart_count,\n",
    "        IFNULL(MAX(totals.transactions), 0) AS transaction_total\n",
    "    FROM\n",
    "        `bigquery-public-data.google_analytics_sample.ga_sessions_20170801`,\n",
    "        UNNEST(hits) AS h\n",
    "    WHERE\n",
    "        h.type = 'EVENT'\n",
    "    GROUP BY\n",
    "        visitId\n",
    ")\n",
    "\n",
    "SELECT\n",
    "    COUNT(DISTINCT visitId) AS total_visits,\n",
    "    SUM(CASE WHEN product_click_count=1 OR quickview_click_count=1 THEN 1 ELSE 0 END) AS product_or_quickview_session,\n",
    "    SUM(CASE WHEN (product_click_count=1 OR quickview_click_count=1) AND add_to_cart_count=1 THEN 1 ELSE 0 END) AS product_or_quickview_and_cart_session,\n",
    "    SUM(CASE WHEN (product_click_count=1 OR quickview_click_count=1) AND add_to_cart_count=1 AND transaction_total>0 THEN 1 ELSE 0 END) AS product_or_quickview_cart_transaction_session\n",
    "FROM\n",
    "    funnel_data;\n",
    "    "
   ]
  },
  {
   "cell_type": "markdown",
   "id": "1d4287ad",
   "metadata": {},
   "source": []
  },
  {
   "cell_type": "markdown",
   "id": "af571c29",
   "metadata": {},
   "source": [
    "The results show that:\n",
    "- One out of three users (152/430 = 35.3%) who interacted went on to add a product to cart\n",
    "- Only one out of five users (30/152 = 19.7%) who added a product in the cart went on to complete the transaction\n",
    "\n",
    "Let's further explore the sessions that were the most engaging in terms of pageviews, and led to a transaction:"
   ]
  },
  {
   "cell_type": "code",
   "execution_count": 56,
   "id": "270e63f1",
   "metadata": {},
   "outputs": [
    {
     "data": {
      "application/vnd.jupyter.widget-view+json": {
       "model_id": "b66a2f65fbc6433ca048fff2cc31edf4",
       "version_major": 2,
       "version_minor": 0
      },
      "text/plain": [
       "Query is running:   0%|          |"
      ]
     },
     "metadata": {},
     "output_type": "display_data"
    },
    {
     "data": {
      "application/vnd.jupyter.widget-view+json": {
       "model_id": "ec0a87b7536b4e17beef30b028751e64",
       "version_major": 2,
       "version_minor": 0
      },
      "text/plain": [
       "Downloading:   0%|          |"
      ]
     },
     "metadata": {},
     "output_type": "display_data"
    },
    {
     "data": {
      "text/html": [
       "<div>\n",
       "<style scoped>\n",
       "    .dataframe tbody tr th:only-of-type {\n",
       "        vertical-align: middle;\n",
       "    }\n",
       "\n",
       "    .dataframe tbody tr th {\n",
       "        vertical-align: top;\n",
       "    }\n",
       "\n",
       "    .dataframe thead th {\n",
       "        text-align: right;\n",
       "    }\n",
       "</style>\n",
       "<table border=\"1\" class=\"dataframe\">\n",
       "  <thead>\n",
       "    <tr style=\"text-align: right;\">\n",
       "      <th></th>\n",
       "      <th>fullVisitorId</th>\n",
       "      <th>visitId</th>\n",
       "      <th>pageviews</th>\n",
       "      <th>avg_pageviews</th>\n",
       "      <th>transactions</th>\n",
       "      <th>revenue</th>\n",
       "    </tr>\n",
       "  </thead>\n",
       "  <tbody>\n",
       "    <tr>\n",
       "      <th>0</th>\n",
       "      <td>9308310352918219134</td>\n",
       "      <td>1501608078</td>\n",
       "      <td>55</td>\n",
       "      <td>4.279734</td>\n",
       "      <td>1</td>\n",
       "      <td>2933.61</td>\n",
       "    </tr>\n",
       "    <tr>\n",
       "      <th>1</th>\n",
       "      <td>0126612099954375841</td>\n",
       "      <td>1501606687</td>\n",
       "      <td>32</td>\n",
       "      <td>4.279734</td>\n",
       "      <td>1</td>\n",
       "      <td>1000.78</td>\n",
       "    </tr>\n",
       "    <tr>\n",
       "      <th>2</th>\n",
       "      <td>7311242886083854158</td>\n",
       "      <td>1501623886</td>\n",
       "      <td>17</td>\n",
       "      <td>4.279734</td>\n",
       "      <td>1</td>\n",
       "      <td>982.73</td>\n",
       "    </tr>\n",
       "    <tr>\n",
       "      <th>3</th>\n",
       "      <td>7420300501523012460</td>\n",
       "      <td>1501627131</td>\n",
       "      <td>112</td>\n",
       "      <td>4.279734</td>\n",
       "      <td>1</td>\n",
       "      <td>400.21</td>\n",
       "    </tr>\n",
       "    <tr>\n",
       "      <th>4</th>\n",
       "      <td>4871061239735971842</td>\n",
       "      <td>1501604340</td>\n",
       "      <td>18</td>\n",
       "      <td>4.279734</td>\n",
       "      <td>1</td>\n",
       "      <td>347.14</td>\n",
       "    </tr>\n",
       "    <tr>\n",
       "      <th>5</th>\n",
       "      <td>8719058463049309640</td>\n",
       "      <td>1501602101</td>\n",
       "      <td>27</td>\n",
       "      <td>4.279734</td>\n",
       "      <td>1</td>\n",
       "      <td>313.38</td>\n",
       "    </tr>\n",
       "    <tr>\n",
       "      <th>6</th>\n",
       "      <td>5371617068925994598</td>\n",
       "      <td>1501631449</td>\n",
       "      <td>23</td>\n",
       "      <td>4.279734</td>\n",
       "      <td>1</td>\n",
       "      <td>234.53</td>\n",
       "    </tr>\n",
       "    <tr>\n",
       "      <th>7</th>\n",
       "      <td>454845221896711463</td>\n",
       "      <td>1501608216</td>\n",
       "      <td>13</td>\n",
       "      <td>4.279734</td>\n",
       "      <td>1</td>\n",
       "      <td>200.00</td>\n",
       "    </tr>\n",
       "    <tr>\n",
       "      <th>8</th>\n",
       "      <td>9008243837280281377</td>\n",
       "      <td>1501624252</td>\n",
       "      <td>34</td>\n",
       "      <td>4.279734</td>\n",
       "      <td>1</td>\n",
       "      <td>170.39</td>\n",
       "    </tr>\n",
       "    <tr>\n",
       "      <th>9</th>\n",
       "      <td>7420300501523012460</td>\n",
       "      <td>1501640730</td>\n",
       "      <td>21</td>\n",
       "      <td>4.279734</td>\n",
       "      <td>1</td>\n",
       "      <td>169.90</td>\n",
       "    </tr>\n",
       "  </tbody>\n",
       "</table>\n",
       "</div>"
      ],
      "text/plain": [
       "         fullVisitorId     visitId  pageviews  avg_pageviews  transactions  \\\n",
       "0  9308310352918219134  1501608078         55       4.279734             1   \n",
       "1  0126612099954375841  1501606687         32       4.279734             1   \n",
       "2  7311242886083854158  1501623886         17       4.279734             1   \n",
       "3  7420300501523012460  1501627131        112       4.279734             1   \n",
       "4  4871061239735971842  1501604340         18       4.279734             1   \n",
       "5  8719058463049309640  1501602101         27       4.279734             1   \n",
       "6  5371617068925994598  1501631449         23       4.279734             1   \n",
       "7   454845221896711463  1501608216         13       4.279734             1   \n",
       "8  9008243837280281377  1501624252         34       4.279734             1   \n",
       "9  7420300501523012460  1501640730         21       4.279734             1   \n",
       "\n",
       "   revenue  \n",
       "0  2933.61  \n",
       "1  1000.78  \n",
       "2   982.73  \n",
       "3   400.21  \n",
       "4   347.14  \n",
       "5   313.38  \n",
       "6   234.53  \n",
       "7   200.00  \n",
       "8   170.39  \n",
       "9   169.90  "
      ]
     },
     "execution_count": 56,
     "metadata": {},
     "output_type": "execute_result"
    }
   ],
   "source": [
    "%%bigquery\n",
    "\n",
    "WITH average_pageviews AS (\n",
    "  SELECT AVG(totals.pageviews) AS avg_pageviews\n",
    "    FROM `bigquery-public-data.google_analytics_sample.ga_sessions_20170801`\n",
    "    WHERE totals.pageviews IS NOT NULL\n",
    ")\n",
    "\n",
    "SELECT\n",
    "  fullVisitorId,\n",
    "  visitId,\n",
    "  totals.pageviews,\n",
    "  avg_pageviews,\n",
    "  totals.transactions,\n",
    "  totals.transactionRevenue / 1e6 AS revenue\n",
    "FROM\n",
    "  `bigquery-public-data.google_analytics_sample.ga_sessions_20170801`\n",
    "CROSS JOIN\n",
    "  average_pageviews\n",
    "WHERE\n",
    "  totals.transactions IS NOT NULL\n",
    "  AND totals.pageviews > (\n",
    "    SELECT AVG(totals.pageviews) AS avg_pageviews\n",
    "    FROM `bigquery-public-data.google_analytics_sample.ga_sessions_20170801`\n",
    "    WHERE totals.pageviews IS NOT NULL\n",
    "  )\n",
    "ORDER BY\n",
    "  revenue DESC\n",
    "LIMIT 10;\n",
    "\n"
   ]
  },
  {
   "cell_type": "markdown",
   "id": "7e62f445",
   "metadata": {},
   "source": [
    "## Conclusions\n",
    "\n",
    "In this project, we performed an in-depth analysis of a Google Analytics sample dataset using BigQuery and SQL. The goal was to understand user behavior, traffic sources, engagement patterns, and factors leading to revenue generation. The main conclusions are summarized below:\n",
    "\n",
    "### Traffic Sources\n",
    "- Direct traffic was the dominant source, contributing the highest number of sessions and the majority of revenue ($8,292.98).\n",
    "- Mail.google.com also generated some revenue, though much smaller in scale. Most other sources, including analytics.google.com and adwords.google.com, contributed little or no revenue during the observed period.\n",
    "\n",
    "### Device Analysis\n",
    "- Desktop devices accounted for approximately two-thirds of sessions, while mobile and tablet users made up the remaining third.\n",
    "- Despite lower session counts, mobile users demonstrated considerable engagement, indicating the importance of maintaining a strong mobile user experience.\n",
    "\n",
    "### User Type Analysis\n",
    "- Returning visitors proved to be significantly more valuable than new visitors.\n",
    "- Conversion rates for returning users were approximately 8.5 times higher than for new users.\n",
    "- Returning visitors generated substantially higher revenue per session ($11.16 versus $0.36).\n",
    "\n",
    "This suggests that retention efforts (e.g., loyalty programs, targeted campaigns) could have a major impact on overall business performance.\n",
    "\n",
    "### Geographic Insights\n",
    "- United States was by far the leading market, accounting for both the highest number of sessions and the largest amount of revenue.\n",
    "- Finland had an unusually high conversion rate relative to its small number of sessions, suggesting potential for targeted marketing in niche markets.\n",
    "\n",
    "### Bounce Rates and Landing Pages\n",
    "- Referral and organic traffic had the highest bounce rates, suggesting possible mismatches between user expectations and landing page content.\n",
    "- Specific landing pages, such as /google+redesign/electronics and /asearch.html, exhibited high bounce rates (above 65%), making them candidates for UX review and improvement.\n",
    "\n",
    "### Session Duration and Engagement\n",
    "- Sessions referred by mail.google.com and dealspotr.com had the highest average session durations, suggesting strong engagement when users arrived from these sources.\n",
    "- Direct traffic showed moderate engagement compared to organic and paid channels.\n",
    "- High session durations correlated with higher conversion likelihood, underlining the importance of encouraging deeper user engagement.\n",
    "\n",
    "### Hit and Event Analysis\n",
    "- Sessions that included user interactions (hits) had significantly higher conversion rates.\n",
    "- Events like \"Add to Cart\" and \"Product Click\" were strongly associated with conversions.\n",
    "- Sessions where users triggered multiple events (especially more than 10) had significantly higher conversion rates compared to sessions with minimal interaction.\n",
    "\n",
    "### Funnel Analysis\n",
    "- Only about 35% of users who interacted with a product (via click or quickview) proceeded to add it to the cart.\n",
    "- Of those who added a product to the cart, only 20% completed a transaction.\n",
    "This points to potential drop-off points in the purchase funnel where targeted interventions (e.g., retargeting, promotions, cart abandonment emails) could improve conversion rates.\n",
    "\n",
    "## Overall Recommendations\n",
    "\n",
    "- Improve landing pages associated with high bounce rates, particularly those reached via referral and organic channels.\n",
    "- Optimize mobile and tablet experiences, given their contribution to overall sessions.\n",
    "- Investigate high-engagement sources (e.g., mail.google.com) to replicate successful referral patterns.\n",
    "- Enhance the checkout funnel by reducing friction after \"Add to Cart\" actions.\n",
    "\n",
    "\n"
   ]
  },
  {
   "cell_type": "markdown",
   "id": "b07ff125",
   "metadata": {},
   "source": []
  }
 ],
 "metadata": {
  "kernelspec": {
   "display_name": "ga_project_env",
   "language": "python",
   "name": "python3"
  },
  "language_info": {
   "codemirror_mode": {
    "name": "ipython",
    "version": 3
   },
   "file_extension": ".py",
   "mimetype": "text/x-python",
   "name": "python",
   "nbconvert_exporter": "python",
   "pygments_lexer": "ipython3",
   "version": "3.13.2"
  }
 },
 "nbformat": 4,
 "nbformat_minor": 5
}
